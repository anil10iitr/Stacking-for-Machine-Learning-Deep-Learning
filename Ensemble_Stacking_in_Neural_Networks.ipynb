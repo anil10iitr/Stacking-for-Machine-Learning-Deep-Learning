{
 "cells": [
  {
   "cell_type": "code",
   "execution_count": 1,
   "metadata": {
    "id": "jUHUoanqkM5_"
   },
   "outputs": [
    {
     "name": "stderr",
     "output_type": "stream",
     "text": [
      "2022-11-21 16:36:49.109395: I tensorflow/core/platform/cpu_feature_guard.cc:193] This TensorFlow binary is optimized with oneAPI Deep Neural Network Library (oneDNN) to use the following CPU instructions in performance-critical operations:  AVX2 FMA\n",
      "To enable them in other operations, rebuild TensorFlow with the appropriate compiler flags.\n"
     ]
    }
   ],
   "source": [
    "from sklearn import datasets\n",
    "from sklearn.linear_model import LinearRegression\n",
    "from keras.callbacks import EarlyStopping\n",
    "from keras import backend as K\n",
    "import matplotlib.pyplot as plt\n",
    "from sklearn.model_selection import train_test_split\n",
    "import pandas as pd\n",
    "from tensorflow.keras.models import Sequential,load_model\n",
    "from tensorflow.keras.layers import Dense,Dropout\n",
    "from numpy import dstack\n",
    "from sklearn.linear_model import LogisticRegression"
   ]
  },
  {
   "cell_type": "code",
   "execution_count": null,
   "metadata": {},
   "outputs": [],
   "source": []
  },
  {
   "cell_type": "code",
   "execution_count": 2,
   "metadata": {
    "id": "ftPZtWDR5eoN"
   },
   "outputs": [],
   "source": [
    "df = pd.read_csv('Churn_Modelling.csv')"
   ]
  },
  {
   "cell_type": "code",
   "execution_count": 3,
   "metadata": {
    "colab": {
     "base_uri": "https://localhost:8080/",
     "height": 226
    },
    "id": "-ipZ0ugi5jik",
    "outputId": "f01a54d6-255e-4141-a31c-ab62a3cb05c5"
   },
   "outputs": [
    {
     "data": {
      "text/html": [
       "<div>\n",
       "<style scoped>\n",
       "    .dataframe tbody tr th:only-of-type {\n",
       "        vertical-align: middle;\n",
       "    }\n",
       "\n",
       "    .dataframe tbody tr th {\n",
       "        vertical-align: top;\n",
       "    }\n",
       "\n",
       "    .dataframe thead th {\n",
       "        text-align: right;\n",
       "    }\n",
       "</style>\n",
       "<table border=\"1\" class=\"dataframe\">\n",
       "  <thead>\n",
       "    <tr style=\"text-align: right;\">\n",
       "      <th></th>\n",
       "      <th>RowNumber</th>\n",
       "      <th>CustomerId</th>\n",
       "      <th>Surname</th>\n",
       "      <th>CreditScore</th>\n",
       "      <th>Geography</th>\n",
       "      <th>Gender</th>\n",
       "      <th>Age</th>\n",
       "      <th>Tenure</th>\n",
       "      <th>Balance</th>\n",
       "      <th>NumOfProducts</th>\n",
       "      <th>HasCrCard</th>\n",
       "      <th>IsActiveMember</th>\n",
       "      <th>EstimatedSalary</th>\n",
       "      <th>Exited</th>\n",
       "    </tr>\n",
       "  </thead>\n",
       "  <tbody>\n",
       "    <tr>\n",
       "      <th>0</th>\n",
       "      <td>1</td>\n",
       "      <td>15634602</td>\n",
       "      <td>Hargrave</td>\n",
       "      <td>619</td>\n",
       "      <td>France</td>\n",
       "      <td>Female</td>\n",
       "      <td>42</td>\n",
       "      <td>2</td>\n",
       "      <td>0.00</td>\n",
       "      <td>1</td>\n",
       "      <td>1</td>\n",
       "      <td>1</td>\n",
       "      <td>101348.88</td>\n",
       "      <td>1</td>\n",
       "    </tr>\n",
       "    <tr>\n",
       "      <th>1</th>\n",
       "      <td>2</td>\n",
       "      <td>15647311</td>\n",
       "      <td>Hill</td>\n",
       "      <td>608</td>\n",
       "      <td>Spain</td>\n",
       "      <td>Female</td>\n",
       "      <td>41</td>\n",
       "      <td>1</td>\n",
       "      <td>83807.86</td>\n",
       "      <td>1</td>\n",
       "      <td>0</td>\n",
       "      <td>1</td>\n",
       "      <td>112542.58</td>\n",
       "      <td>0</td>\n",
       "    </tr>\n",
       "    <tr>\n",
       "      <th>2</th>\n",
       "      <td>3</td>\n",
       "      <td>15619304</td>\n",
       "      <td>Onio</td>\n",
       "      <td>502</td>\n",
       "      <td>France</td>\n",
       "      <td>Female</td>\n",
       "      <td>42</td>\n",
       "      <td>8</td>\n",
       "      <td>159660.80</td>\n",
       "      <td>3</td>\n",
       "      <td>1</td>\n",
       "      <td>0</td>\n",
       "      <td>113931.57</td>\n",
       "      <td>1</td>\n",
       "    </tr>\n",
       "    <tr>\n",
       "      <th>3</th>\n",
       "      <td>4</td>\n",
       "      <td>15701354</td>\n",
       "      <td>Boni</td>\n",
       "      <td>699</td>\n",
       "      <td>France</td>\n",
       "      <td>Female</td>\n",
       "      <td>39</td>\n",
       "      <td>1</td>\n",
       "      <td>0.00</td>\n",
       "      <td>2</td>\n",
       "      <td>0</td>\n",
       "      <td>0</td>\n",
       "      <td>93826.63</td>\n",
       "      <td>0</td>\n",
       "    </tr>\n",
       "    <tr>\n",
       "      <th>4</th>\n",
       "      <td>5</td>\n",
       "      <td>15737888</td>\n",
       "      <td>Mitchell</td>\n",
       "      <td>850</td>\n",
       "      <td>Spain</td>\n",
       "      <td>Female</td>\n",
       "      <td>43</td>\n",
       "      <td>2</td>\n",
       "      <td>125510.82</td>\n",
       "      <td>1</td>\n",
       "      <td>1</td>\n",
       "      <td>1</td>\n",
       "      <td>79084.10</td>\n",
       "      <td>0</td>\n",
       "    </tr>\n",
       "  </tbody>\n",
       "</table>\n",
       "</div>"
      ],
      "text/plain": [
       "   RowNumber  CustomerId   Surname  CreditScore Geography  Gender  Age  \\\n",
       "0          1    15634602  Hargrave          619    France  Female   42   \n",
       "1          2    15647311      Hill          608     Spain  Female   41   \n",
       "2          3    15619304      Onio          502    France  Female   42   \n",
       "3          4    15701354      Boni          699    France  Female   39   \n",
       "4          5    15737888  Mitchell          850     Spain  Female   43   \n",
       "\n",
       "   Tenure    Balance  NumOfProducts  HasCrCard  IsActiveMember  \\\n",
       "0       2       0.00              1          1               1   \n",
       "1       1   83807.86              1          0               1   \n",
       "2       8  159660.80              3          1               0   \n",
       "3       1       0.00              2          0               0   \n",
       "4       2  125510.82              1          1               1   \n",
       "\n",
       "   EstimatedSalary  Exited  \n",
       "0        101348.88       1  \n",
       "1        112542.58       0  \n",
       "2        113931.57       1  \n",
       "3         93826.63       0  \n",
       "4         79084.10       0  "
      ]
     },
     "execution_count": 3,
     "metadata": {},
     "output_type": "execute_result"
    }
   ],
   "source": [
    "df.head()"
   ]
  },
  {
   "cell_type": "markdown",
   "metadata": {
    "id": "YNJx9TG1FBHh"
   },
   "source": [
    "This data set contains details of a bank's customers and the target variable is a binary variable reflecting the fact whether the customer left the bank (closed his account) or he continues to be a customer."
   ]
  },
  {
   "cell_type": "code",
   "execution_count": 4,
   "metadata": {
    "colab": {
     "base_uri": "https://localhost:8080/"
    },
    "id": "LAf9airmE5y1",
    "outputId": "c90c9bb0-284f-4348-aa76-bded0befb5ac"
   },
   "outputs": [
    {
     "name": "stdout",
     "output_type": "stream",
     "text": [
      "<class 'pandas.core.frame.DataFrame'>\n",
      "RangeIndex: 10000 entries, 0 to 9999\n",
      "Data columns (total 14 columns):\n",
      " #   Column           Non-Null Count  Dtype  \n",
      "---  ------           --------------  -----  \n",
      " 0   RowNumber        10000 non-null  int64  \n",
      " 1   CustomerId       10000 non-null  int64  \n",
      " 2   Surname          10000 non-null  object \n",
      " 3   CreditScore      10000 non-null  int64  \n",
      " 4   Geography        10000 non-null  object \n",
      " 5   Gender           10000 non-null  object \n",
      " 6   Age              10000 non-null  int64  \n",
      " 7   Tenure           10000 non-null  int64  \n",
      " 8   Balance          10000 non-null  float64\n",
      " 9   NumOfProducts    10000 non-null  int64  \n",
      " 10  HasCrCard        10000 non-null  int64  \n",
      " 11  IsActiveMember   10000 non-null  int64  \n",
      " 12  EstimatedSalary  10000 non-null  float64\n",
      " 13  Exited           10000 non-null  int64  \n",
      "dtypes: float64(2), int64(9), object(3)\n",
      "memory usage: 1.1+ MB\n"
     ]
    }
   ],
   "source": [
    "df.info()"
   ]
  },
  {
   "cell_type": "markdown",
   "metadata": {
    "id": "D7B_BTSSGAQV"
   },
   "source": [
    "There are 3 features with string values."
   ]
  },
  {
   "cell_type": "code",
   "execution_count": 5,
   "metadata": {
    "colab": {
     "base_uri": "https://localhost:8080/"
    },
    "id": "MgLCF3amF6w4",
    "outputId": "bbf1e1a2-3cc2-4a84-cbee-dbbcc0d77122"
   },
   "outputs": [
    {
     "data": {
      "text/plain": [
       "RowNumber          0\n",
       "CustomerId         0\n",
       "Surname            0\n",
       "CreditScore        0\n",
       "Geography          0\n",
       "Gender             0\n",
       "Age                0\n",
       "Tenure             0\n",
       "Balance            0\n",
       "NumOfProducts      0\n",
       "HasCrCard          0\n",
       "IsActiveMember     0\n",
       "EstimatedSalary    0\n",
       "Exited             0\n",
       "dtype: int64"
      ]
     },
     "execution_count": 5,
     "metadata": {},
     "output_type": "execute_result"
    }
   ],
   "source": [
    "df.isnull().sum()"
   ]
  },
  {
   "cell_type": "markdown",
   "metadata": {
    "id": "U5aZMSNpGUBs"
   },
   "source": [
    "Dataset is free of null values."
   ]
  },
  {
   "cell_type": "code",
   "execution_count": 6,
   "metadata": {
    "colab": {
     "base_uri": "https://localhost:8080/"
    },
    "id": "cPa3MDBlGQ9S",
    "outputId": "ef19ca8e-b0cb-4f80-dff3-2bbdd0cb4d0e"
   },
   "outputs": [
    {
     "data": {
      "text/plain": [
       "France     5014\n",
       "Germany    2509\n",
       "Spain      2477\n",
       "Name: Geography, dtype: int64"
      ]
     },
     "execution_count": 6,
     "metadata": {},
     "output_type": "execute_result"
    }
   ],
   "source": [
    "df['Geography'].value_counts()"
   ]
  },
  {
   "cell_type": "markdown",
   "metadata": {
    "id": "RdiQD8_0NkBD"
   },
   "source": [
    "Since the number of countries is less and also their is no rank which can be associated with the customers of different region. Hence we use one hot encodding."
   ]
  },
  {
   "cell_type": "code",
   "execution_count": 7,
   "metadata": {
    "id": "qlbVSJkxNjOf"
   },
   "outputs": [],
   "source": [
    "#One hot encodding\n",
    "geo = pd.get_dummies(df['Geography'],drop_first = True)\n",
    "gen = pd.get_dummies(df['Gender'],drop_first= True)\n",
    "df = pd.concat([df,gen,geo],axis=1)\n",
    "\n"
   ]
  },
  {
   "cell_type": "code",
   "execution_count": 8,
   "metadata": {
    "id": "IKYqTAtaNgBG"
   },
   "outputs": [],
   "source": [
    "#Drop unnecessary data\n",
    "df.drop(['Geography','Gender','Surname','RowNumber','CustomerId'],axis=1,inplace = True)"
   ]
  },
  {
   "cell_type": "code",
   "execution_count": 9,
   "metadata": {
    "colab": {
     "base_uri": "https://localhost:8080/",
     "height": 443
    },
    "id": "uc5KeAVxZoo1",
    "outputId": "f50254db-35a9-4b3e-8d38-c699e1b33951"
   },
   "outputs": [
    {
     "data": {
      "text/html": [
       "<div>\n",
       "<style scoped>\n",
       "    .dataframe tbody tr th:only-of-type {\n",
       "        vertical-align: middle;\n",
       "    }\n",
       "\n",
       "    .dataframe tbody tr th {\n",
       "        vertical-align: top;\n",
       "    }\n",
       "\n",
       "    .dataframe thead th {\n",
       "        text-align: right;\n",
       "    }\n",
       "</style>\n",
       "<table border=\"1\" class=\"dataframe\">\n",
       "  <thead>\n",
       "    <tr style=\"text-align: right;\">\n",
       "      <th></th>\n",
       "      <th>CreditScore</th>\n",
       "      <th>Age</th>\n",
       "      <th>Tenure</th>\n",
       "      <th>Balance</th>\n",
       "      <th>NumOfProducts</th>\n",
       "      <th>HasCrCard</th>\n",
       "      <th>IsActiveMember</th>\n",
       "      <th>EstimatedSalary</th>\n",
       "      <th>Exited</th>\n",
       "      <th>Male</th>\n",
       "      <th>Germany</th>\n",
       "      <th>Spain</th>\n",
       "    </tr>\n",
       "  </thead>\n",
       "  <tbody>\n",
       "    <tr>\n",
       "      <th>0</th>\n",
       "      <td>619</td>\n",
       "      <td>42</td>\n",
       "      <td>2</td>\n",
       "      <td>0.00</td>\n",
       "      <td>1</td>\n",
       "      <td>1</td>\n",
       "      <td>1</td>\n",
       "      <td>101348.88</td>\n",
       "      <td>1</td>\n",
       "      <td>0</td>\n",
       "      <td>0</td>\n",
       "      <td>0</td>\n",
       "    </tr>\n",
       "    <tr>\n",
       "      <th>1</th>\n",
       "      <td>608</td>\n",
       "      <td>41</td>\n",
       "      <td>1</td>\n",
       "      <td>83807.86</td>\n",
       "      <td>1</td>\n",
       "      <td>0</td>\n",
       "      <td>1</td>\n",
       "      <td>112542.58</td>\n",
       "      <td>0</td>\n",
       "      <td>0</td>\n",
       "      <td>0</td>\n",
       "      <td>1</td>\n",
       "    </tr>\n",
       "    <tr>\n",
       "      <th>2</th>\n",
       "      <td>502</td>\n",
       "      <td>42</td>\n",
       "      <td>8</td>\n",
       "      <td>159660.80</td>\n",
       "      <td>3</td>\n",
       "      <td>1</td>\n",
       "      <td>0</td>\n",
       "      <td>113931.57</td>\n",
       "      <td>1</td>\n",
       "      <td>0</td>\n",
       "      <td>0</td>\n",
       "      <td>0</td>\n",
       "    </tr>\n",
       "    <tr>\n",
       "      <th>3</th>\n",
       "      <td>699</td>\n",
       "      <td>39</td>\n",
       "      <td>1</td>\n",
       "      <td>0.00</td>\n",
       "      <td>2</td>\n",
       "      <td>0</td>\n",
       "      <td>0</td>\n",
       "      <td>93826.63</td>\n",
       "      <td>0</td>\n",
       "      <td>0</td>\n",
       "      <td>0</td>\n",
       "      <td>0</td>\n",
       "    </tr>\n",
       "    <tr>\n",
       "      <th>4</th>\n",
       "      <td>850</td>\n",
       "      <td>43</td>\n",
       "      <td>2</td>\n",
       "      <td>125510.82</td>\n",
       "      <td>1</td>\n",
       "      <td>1</td>\n",
       "      <td>1</td>\n",
       "      <td>79084.10</td>\n",
       "      <td>0</td>\n",
       "      <td>0</td>\n",
       "      <td>0</td>\n",
       "      <td>1</td>\n",
       "    </tr>\n",
       "    <tr>\n",
       "      <th>...</th>\n",
       "      <td>...</td>\n",
       "      <td>...</td>\n",
       "      <td>...</td>\n",
       "      <td>...</td>\n",
       "      <td>...</td>\n",
       "      <td>...</td>\n",
       "      <td>...</td>\n",
       "      <td>...</td>\n",
       "      <td>...</td>\n",
       "      <td>...</td>\n",
       "      <td>...</td>\n",
       "      <td>...</td>\n",
       "    </tr>\n",
       "    <tr>\n",
       "      <th>9995</th>\n",
       "      <td>771</td>\n",
       "      <td>39</td>\n",
       "      <td>5</td>\n",
       "      <td>0.00</td>\n",
       "      <td>2</td>\n",
       "      <td>1</td>\n",
       "      <td>0</td>\n",
       "      <td>96270.64</td>\n",
       "      <td>0</td>\n",
       "      <td>1</td>\n",
       "      <td>0</td>\n",
       "      <td>0</td>\n",
       "    </tr>\n",
       "    <tr>\n",
       "      <th>9996</th>\n",
       "      <td>516</td>\n",
       "      <td>35</td>\n",
       "      <td>10</td>\n",
       "      <td>57369.61</td>\n",
       "      <td>1</td>\n",
       "      <td>1</td>\n",
       "      <td>1</td>\n",
       "      <td>101699.77</td>\n",
       "      <td>0</td>\n",
       "      <td>1</td>\n",
       "      <td>0</td>\n",
       "      <td>0</td>\n",
       "    </tr>\n",
       "    <tr>\n",
       "      <th>9997</th>\n",
       "      <td>709</td>\n",
       "      <td>36</td>\n",
       "      <td>7</td>\n",
       "      <td>0.00</td>\n",
       "      <td>1</td>\n",
       "      <td>0</td>\n",
       "      <td>1</td>\n",
       "      <td>42085.58</td>\n",
       "      <td>1</td>\n",
       "      <td>0</td>\n",
       "      <td>0</td>\n",
       "      <td>0</td>\n",
       "    </tr>\n",
       "    <tr>\n",
       "      <th>9998</th>\n",
       "      <td>772</td>\n",
       "      <td>42</td>\n",
       "      <td>3</td>\n",
       "      <td>75075.31</td>\n",
       "      <td>2</td>\n",
       "      <td>1</td>\n",
       "      <td>0</td>\n",
       "      <td>92888.52</td>\n",
       "      <td>1</td>\n",
       "      <td>1</td>\n",
       "      <td>1</td>\n",
       "      <td>0</td>\n",
       "    </tr>\n",
       "    <tr>\n",
       "      <th>9999</th>\n",
       "      <td>792</td>\n",
       "      <td>28</td>\n",
       "      <td>4</td>\n",
       "      <td>130142.79</td>\n",
       "      <td>1</td>\n",
       "      <td>1</td>\n",
       "      <td>0</td>\n",
       "      <td>38190.78</td>\n",
       "      <td>0</td>\n",
       "      <td>0</td>\n",
       "      <td>0</td>\n",
       "      <td>0</td>\n",
       "    </tr>\n",
       "  </tbody>\n",
       "</table>\n",
       "<p>10000 rows × 12 columns</p>\n",
       "</div>"
      ],
      "text/plain": [
       "      CreditScore  Age  Tenure    Balance  NumOfProducts  HasCrCard  \\\n",
       "0             619   42       2       0.00              1          1   \n",
       "1             608   41       1   83807.86              1          0   \n",
       "2             502   42       8  159660.80              3          1   \n",
       "3             699   39       1       0.00              2          0   \n",
       "4             850   43       2  125510.82              1          1   \n",
       "...           ...  ...     ...        ...            ...        ...   \n",
       "9995          771   39       5       0.00              2          1   \n",
       "9996          516   35      10   57369.61              1          1   \n",
       "9997          709   36       7       0.00              1          0   \n",
       "9998          772   42       3   75075.31              2          1   \n",
       "9999          792   28       4  130142.79              1          1   \n",
       "\n",
       "      IsActiveMember  EstimatedSalary  Exited  Male  Germany  Spain  \n",
       "0                  1        101348.88       1     0        0      0  \n",
       "1                  1        112542.58       0     0        0      1  \n",
       "2                  0        113931.57       1     0        0      0  \n",
       "3                  0         93826.63       0     0        0      0  \n",
       "4                  1         79084.10       0     0        0      1  \n",
       "...              ...              ...     ...   ...      ...    ...  \n",
       "9995               0         96270.64       0     1        0      0  \n",
       "9996               1        101699.77       0     1        0      0  \n",
       "9997               1         42085.58       1     0        0      0  \n",
       "9998               0         92888.52       1     1        1      0  \n",
       "9999               0         38190.78       0     0        0      0  \n",
       "\n",
       "[10000 rows x 12 columns]"
      ]
     },
     "execution_count": 9,
     "metadata": {},
     "output_type": "execute_result"
    }
   ],
   "source": [
    "df"
   ]
  },
  {
   "cell_type": "markdown",
   "metadata": {
    "id": "MJ2PL7DQgJbB"
   },
   "source": [
    "We need to do data normalization before we send the data to train a neural network model."
   ]
  },
  {
   "cell_type": "code",
   "execution_count": 10,
   "metadata": {
    "id": "OzEwSxbVgIqT"
   },
   "outputs": [],
   "source": [
    "from sklearn.preprocessing import MinMaxScaler"
   ]
  },
  {
   "cell_type": "code",
   "execution_count": 11,
   "metadata": {
    "id": "xzrBthVrjq2r"
   },
   "outputs": [],
   "source": [
    "X = df.drop('Exited',axis=1)\n",
    "y = df['Exited']"
   ]
  },
  {
   "cell_type": "code",
   "execution_count": 12,
   "metadata": {
    "id": "cL6235e1Z4ZL"
   },
   "outputs": [],
   "source": [
    "#normalization\n",
    "scaler = MinMaxScaler()\n",
    "X_scaled = scaler.fit_transform(X)"
   ]
  },
  {
   "cell_type": "code",
   "execution_count": 13,
   "metadata": {
    "colab": {
     "base_uri": "https://localhost:8080/"
    },
    "id": "YH396zpClb47",
    "outputId": "39d03a59-d68a-456b-977e-6328afcf21b1"
   },
   "outputs": [
    {
     "data": {
      "text/plain": [
       "array([[0.538     , 0.32432432, 0.2       , ..., 0.        , 0.        ,\n",
       "        0.        ],\n",
       "       [0.516     , 0.31081081, 0.1       , ..., 0.        , 0.        ,\n",
       "        1.        ],\n",
       "       [0.304     , 0.32432432, 0.8       , ..., 0.        , 0.        ,\n",
       "        0.        ],\n",
       "       ...,\n",
       "       [0.718     , 0.24324324, 0.7       , ..., 0.        , 0.        ,\n",
       "        0.        ],\n",
       "       [0.844     , 0.32432432, 0.3       , ..., 1.        , 1.        ,\n",
       "        0.        ],\n",
       "       [0.884     , 0.13513514, 0.4       , ..., 0.        , 0.        ,\n",
       "        0.        ]])"
      ]
     },
     "execution_count": 13,
     "metadata": {},
     "output_type": "execute_result"
    }
   ],
   "source": [
    "X_scaled"
   ]
  },
  {
   "cell_type": "code",
   "execution_count": 14,
   "metadata": {
    "colab": {
     "base_uri": "https://localhost:8080/",
     "height": 32
    },
    "id": "4qpJweOYl9Pc",
    "outputId": "0eb5c210-d755-49f7-ce07-21ae6b2242fa"
   },
   "outputs": [
    {
     "data": {
      "text/html": [
       "<div>\n",
       "<style scoped>\n",
       "    .dataframe tbody tr th:only-of-type {\n",
       "        vertical-align: middle;\n",
       "    }\n",
       "\n",
       "    .dataframe tbody tr th {\n",
       "        vertical-align: top;\n",
       "    }\n",
       "\n",
       "    .dataframe thead th {\n",
       "        text-align: right;\n",
       "    }\n",
       "</style>\n",
       "<table border=\"1\" class=\"dataframe\">\n",
       "  <thead>\n",
       "    <tr style=\"text-align: right;\">\n",
       "      <th></th>\n",
       "    </tr>\n",
       "  </thead>\n",
       "  <tbody>\n",
       "  </tbody>\n",
       "</table>\n",
       "</div>"
      ],
      "text/plain": [
       "Empty DataFrame\n",
       "Columns: []\n",
       "Index: []"
      ]
     },
     "execution_count": 14,
     "metadata": {},
     "output_type": "execute_result"
    }
   ],
   "source": [
    "pd.DataFrame( )"
   ]
  },
  {
   "cell_type": "code",
   "execution_count": 15,
   "metadata": {
    "id": "dn7uajLulc6d"
   },
   "outputs": [],
   "source": [
    "X_final = pd.DataFrame(columns = ['CreditScore','Age','Tenure','Balance','NumOfProducts','HasCrCard','IsActiveMember','EstimatedSalary','Male','Germany','Spain'],data = X_scaled)"
   ]
  },
  {
   "cell_type": "code",
   "execution_count": 16,
   "metadata": {
    "colab": {
     "base_uri": "https://localhost:8080/",
     "height": 226
    },
    "id": "OvFmFWbtoROc",
    "outputId": "673ffe5f-df52-4cbc-edc7-9d594ea39141"
   },
   "outputs": [
    {
     "data": {
      "text/html": [
       "<div>\n",
       "<style scoped>\n",
       "    .dataframe tbody tr th:only-of-type {\n",
       "        vertical-align: middle;\n",
       "    }\n",
       "\n",
       "    .dataframe tbody tr th {\n",
       "        vertical-align: top;\n",
       "    }\n",
       "\n",
       "    .dataframe thead th {\n",
       "        text-align: right;\n",
       "    }\n",
       "</style>\n",
       "<table border=\"1\" class=\"dataframe\">\n",
       "  <thead>\n",
       "    <tr style=\"text-align: right;\">\n",
       "      <th></th>\n",
       "      <th>CreditScore</th>\n",
       "      <th>Age</th>\n",
       "      <th>Tenure</th>\n",
       "      <th>Balance</th>\n",
       "      <th>NumOfProducts</th>\n",
       "      <th>HasCrCard</th>\n",
       "      <th>IsActiveMember</th>\n",
       "      <th>EstimatedSalary</th>\n",
       "      <th>Male</th>\n",
       "      <th>Germany</th>\n",
       "      <th>Spain</th>\n",
       "    </tr>\n",
       "  </thead>\n",
       "  <tbody>\n",
       "    <tr>\n",
       "      <th>0</th>\n",
       "      <td>0.538</td>\n",
       "      <td>0.324324</td>\n",
       "      <td>0.2</td>\n",
       "      <td>0.000000</td>\n",
       "      <td>0.000000</td>\n",
       "      <td>1.0</td>\n",
       "      <td>1.0</td>\n",
       "      <td>0.506735</td>\n",
       "      <td>0.0</td>\n",
       "      <td>0.0</td>\n",
       "      <td>0.0</td>\n",
       "    </tr>\n",
       "    <tr>\n",
       "      <th>1</th>\n",
       "      <td>0.516</td>\n",
       "      <td>0.310811</td>\n",
       "      <td>0.1</td>\n",
       "      <td>0.334031</td>\n",
       "      <td>0.000000</td>\n",
       "      <td>0.0</td>\n",
       "      <td>1.0</td>\n",
       "      <td>0.562709</td>\n",
       "      <td>0.0</td>\n",
       "      <td>0.0</td>\n",
       "      <td>1.0</td>\n",
       "    </tr>\n",
       "    <tr>\n",
       "      <th>2</th>\n",
       "      <td>0.304</td>\n",
       "      <td>0.324324</td>\n",
       "      <td>0.8</td>\n",
       "      <td>0.636357</td>\n",
       "      <td>0.666667</td>\n",
       "      <td>1.0</td>\n",
       "      <td>0.0</td>\n",
       "      <td>0.569654</td>\n",
       "      <td>0.0</td>\n",
       "      <td>0.0</td>\n",
       "      <td>0.0</td>\n",
       "    </tr>\n",
       "    <tr>\n",
       "      <th>3</th>\n",
       "      <td>0.698</td>\n",
       "      <td>0.283784</td>\n",
       "      <td>0.1</td>\n",
       "      <td>0.000000</td>\n",
       "      <td>0.333333</td>\n",
       "      <td>0.0</td>\n",
       "      <td>0.0</td>\n",
       "      <td>0.469120</td>\n",
       "      <td>0.0</td>\n",
       "      <td>0.0</td>\n",
       "      <td>0.0</td>\n",
       "    </tr>\n",
       "    <tr>\n",
       "      <th>4</th>\n",
       "      <td>1.000</td>\n",
       "      <td>0.337838</td>\n",
       "      <td>0.2</td>\n",
       "      <td>0.500246</td>\n",
       "      <td>0.000000</td>\n",
       "      <td>1.0</td>\n",
       "      <td>1.0</td>\n",
       "      <td>0.395400</td>\n",
       "      <td>0.0</td>\n",
       "      <td>0.0</td>\n",
       "      <td>1.0</td>\n",
       "    </tr>\n",
       "  </tbody>\n",
       "</table>\n",
       "</div>"
      ],
      "text/plain": [
       "   CreditScore       Age  Tenure   Balance  NumOfProducts  HasCrCard  \\\n",
       "0        0.538  0.324324     0.2  0.000000       0.000000        1.0   \n",
       "1        0.516  0.310811     0.1  0.334031       0.000000        0.0   \n",
       "2        0.304  0.324324     0.8  0.636357       0.666667        1.0   \n",
       "3        0.698  0.283784     0.1  0.000000       0.333333        0.0   \n",
       "4        1.000  0.337838     0.2  0.500246       0.000000        1.0   \n",
       "\n",
       "   IsActiveMember  EstimatedSalary  Male  Germany  Spain  \n",
       "0             1.0         0.506735   0.0      0.0    0.0  \n",
       "1             1.0         0.562709   0.0      0.0    1.0  \n",
       "2             0.0         0.569654   0.0      0.0    0.0  \n",
       "3             0.0         0.469120   0.0      0.0    0.0  \n",
       "4             1.0         0.395400   0.0      0.0    1.0  "
      ]
     },
     "execution_count": 16,
     "metadata": {},
     "output_type": "execute_result"
    }
   ],
   "source": [
    "X_final.head()"
   ]
  },
  {
   "cell_type": "code",
   "execution_count": 17,
   "metadata": {
    "id": "89We30gGujfh"
   },
   "outputs": [],
   "source": [
    "#train-test-split\n",
    "X_train,X_test,y_train,y_test = train_test_split(X_final,y,test_size = 0.30,random_state = 101)"
   ]
  },
  {
   "cell_type": "markdown",
   "metadata": {
    "id": "W5RXTOsyoanj"
   },
   "source": [
    "Modeling"
   ]
  },
  {
   "cell_type": "markdown",
   "metadata": {
    "id": "qJZhdfxMol4e"
   },
   "source": []
  },
  {
   "cell_type": "code",
   "execution_count": null,
   "metadata": {
    "id": "nKGn1eRGoSTO"
   },
   "outputs": [],
   "source": []
  },
  {
   "cell_type": "code",
   "execution_count": null,
   "metadata": {
    "colab": {
     "base_uri": "https://localhost:8080/"
    },
    "id": "mncGzV0bpe0k",
    "outputId": "769b8bd5-4567-49ee-d0b5-1bbd6b4cad62"
   },
   "outputs": [],
   "source": []
  },
  {
   "cell_type": "markdown",
   "metadata": {
    "id": "7SIjUcRBt5Bw"
   },
   "source": [
    "Output shape:\n",
    "  N-D tensor with shape: (batch_size, ..., units).\n",
    "For instance, for a 2D input with shape (batch_size, input_dim),\n",
    "the output would have shape (batch_size, units)."
   ]
  },
  {
   "cell_type": "code",
   "execution_count": 18,
   "metadata": {
    "colab": {
     "base_uri": "https://localhost:8080/"
    },
    "id": "F3XOiN2pv0-2",
    "outputId": "c57336a0-ff5a-4359-9d39-787b04cea059"
   },
   "outputs": [
    {
     "data": {
      "text/plain": [
       "0    7963\n",
       "1    2037\n",
       "Name: Exited, dtype: int64"
      ]
     },
     "execution_count": 18,
     "metadata": {},
     "output_type": "execute_result"
    }
   ],
   "source": [
    "y.value_counts()"
   ]
  },
  {
   "cell_type": "markdown",
   "metadata": {
    "id": "LXUi0n8Wxc-C"
   },
   "source": [
    "We will chose f_score "
   ]
  },
  {
   "cell_type": "code",
   "execution_count": 19,
   "metadata": {
    "id": "LRPZ1MPsJ-G-"
   },
   "outputs": [],
   "source": [
    "\n",
    "def recall_m(y_true, y_pred):\n",
    "    true_positives = K.sum(K.round(K.clip(y_true * y_pred, 0, 1)))\n",
    "    possible_positives = K.sum(K.round(K.clip(y_true, 0, 1)))\n",
    "    recall = true_positives / (possible_positives + K.epsilon())\n",
    "    return recall\n",
    "\n",
    "def precision_m(y_true, y_pred):\n",
    "    true_positives = K.sum(K.round(K.clip(y_true * y_pred, 0, 1)))\n",
    "    predicted_positives = K.sum(K.round(K.clip(y_pred, 0, 1)))\n",
    "    precision = true_positives / (predicted_positives + K.epsilon())\n",
    "    return precision\n",
    "\n",
    "def f1_m(y_true, y_pred):\n",
    "    precision = precision_m(y_true, y_pred)\n",
    "    recall = recall_m(y_true, y_pred)\n",
    "    return 2*((precision*recall)/(precision+recall+K.epsilon()))\n"
   ]
  },
  {
   "cell_type": "markdown",
   "metadata": {},
   "source": [
    "Lets create 3 neural networks to stack further."
   ]
  },
  {
   "cell_type": "code",
   "execution_count": 20,
   "metadata": {},
   "outputs": [
    {
     "name": "stderr",
     "output_type": "stream",
     "text": [
      "2022-11-21 16:36:55.489385: I tensorflow/core/platform/cpu_feature_guard.cc:193] This TensorFlow binary is optimized with oneAPI Deep Neural Network Library (oneDNN) to use the following CPU instructions in performance-critical operations:  AVX2 FMA\n",
      "To enable them in other operations, rebuild TensorFlow with the appropriate compiler flags.\n"
     ]
    }
   ],
   "source": [
    "model1 = Sequential()\n",
    "model1.add(Dense(50,activation = 'relu',input_dim = 11))\n",
    "model1.add(Dense(25,activation = 'relu'))\n",
    "model1.add(Dense(1,activation = 'sigmoid'))"
   ]
  },
  {
   "cell_type": "code",
   "execution_count": 21,
   "metadata": {},
   "outputs": [
    {
     "name": "stdout",
     "output_type": "stream",
     "text": [
      "Model: \"sequential\"\n",
      "_________________________________________________________________\n",
      " Layer (type)                Output Shape              Param #   \n",
      "=================================================================\n",
      " dense (Dense)               (None, 50)                600       \n",
      "                                                                 \n",
      " dense_1 (Dense)             (None, 25)                1275      \n",
      "                                                                 \n",
      " dense_2 (Dense)             (None, 1)                 26        \n",
      "                                                                 \n",
      "=================================================================\n",
      "Total params: 1,901\n",
      "Trainable params: 1,901\n",
      "Non-trainable params: 0\n",
      "_________________________________________________________________\n"
     ]
    }
   ],
   "source": [
    "model1.summary()"
   ]
  },
  {
   "cell_type": "code",
   "execution_count": 22,
   "metadata": {
    "colab": {
     "base_uri": "https://localhost:8080/"
    },
    "id": "3R_lkaZ_pqHy",
    "outputId": "d658ac07-c2c1-4f36-ef05-30187c07f32d"
   },
   "outputs": [
    {
     "name": "stdout",
     "output_type": "stream",
     "text": [
      "Epoch 1/50\n",
      "219/219 [==============================] - 2s 3ms/step - loss: 0.4927 - f1_m: 0.0047 - val_loss: 0.4611 - val_f1_m: 0.0168\n",
      "Epoch 2/50\n",
      "219/219 [==============================] - 0s 2ms/step - loss: 0.4491 - f1_m: 0.1611 - val_loss: 0.4373 - val_f1_m: 0.2025\n",
      "Epoch 3/50\n",
      "219/219 [==============================] - 0s 2ms/step - loss: 0.4318 - f1_m: 0.2661 - val_loss: 0.4191 - val_f1_m: 0.2486\n",
      "Epoch 4/50\n",
      "219/219 [==============================] - 0s 2ms/step - loss: 0.4174 - f1_m: 0.3288 - val_loss: 0.4181 - val_f1_m: 0.4623\n",
      "Epoch 5/50\n",
      "219/219 [==============================] - 0s 2ms/step - loss: 0.4025 - f1_m: 0.3846 - val_loss: 0.3880 - val_f1_m: 0.4191\n",
      "Epoch 6/50\n",
      "219/219 [==============================] - 0s 2ms/step - loss: 0.3855 - f1_m: 0.4196 - val_loss: 0.3719 - val_f1_m: 0.4606\n",
      "Epoch 7/50\n",
      "219/219 [==============================] - 0s 2ms/step - loss: 0.3719 - f1_m: 0.4607 - val_loss: 0.3604 - val_f1_m: 0.4529\n",
      "Epoch 8/50\n",
      "219/219 [==============================] - 0s 2ms/step - loss: 0.3627 - f1_m: 0.4845 - val_loss: 0.3541 - val_f1_m: 0.5425\n",
      "Epoch 9/50\n",
      "219/219 [==============================] - 0s 2ms/step - loss: 0.3597 - f1_m: 0.5093 - val_loss: 0.3538 - val_f1_m: 0.4741\n",
      "Epoch 10/50\n",
      "219/219 [==============================] - 0s 2ms/step - loss: 0.3542 - f1_m: 0.5136 - val_loss: 0.3462 - val_f1_m: 0.5289\n",
      "Epoch 11/50\n",
      "219/219 [==============================] - 0s 2ms/step - loss: 0.3508 - f1_m: 0.5219 - val_loss: 0.3488 - val_f1_m: 0.5737\n",
      "Epoch 12/50\n",
      "219/219 [==============================] - 0s 2ms/step - loss: 0.3506 - f1_m: 0.5162 - val_loss: 0.3431 - val_f1_m: 0.5491\n",
      "Epoch 13/50\n",
      "219/219 [==============================] - 0s 2ms/step - loss: 0.3493 - f1_m: 0.5144 - val_loss: 0.3444 - val_f1_m: 0.5747\n",
      "Epoch 14/50\n",
      "219/219 [==============================] - 0s 2ms/step - loss: 0.3461 - f1_m: 0.5379 - val_loss: 0.3565 - val_f1_m: 0.5782\n",
      "Epoch 15/50\n",
      "219/219 [==============================] - 0s 2ms/step - loss: 0.3469 - f1_m: 0.5155 - val_loss: 0.3395 - val_f1_m: 0.5292\n",
      "Epoch 16/50\n",
      "219/219 [==============================] - 0s 2ms/step - loss: 0.3449 - f1_m: 0.5313 - val_loss: 0.3374 - val_f1_m: 0.5517\n",
      "Epoch 17/50\n",
      "219/219 [==============================] - 0s 2ms/step - loss: 0.3441 - f1_m: 0.5459 - val_loss: 0.3381 - val_f1_m: 0.5634\n",
      "Epoch 18/50\n",
      "219/219 [==============================] - 0s 2ms/step - loss: 0.3432 - f1_m: 0.5425 - val_loss: 0.3460 - val_f1_m: 0.4858\n",
      "Epoch 19/50\n",
      "219/219 [==============================] - 0s 2ms/step - loss: 0.3413 - f1_m: 0.5321 - val_loss: 0.3428 - val_f1_m: 0.5504\n",
      "Epoch 20/50\n",
      "219/219 [==============================] - 0s 2ms/step - loss: 0.3422 - f1_m: 0.5393 - val_loss: 0.3395 - val_f1_m: 0.5696\n",
      "Epoch 21/50\n",
      "219/219 [==============================] - 0s 2ms/step - loss: 0.3400 - f1_m: 0.5292 - val_loss: 0.3360 - val_f1_m: 0.5590\n",
      "Epoch 22/50\n",
      "219/219 [==============================] - 0s 2ms/step - loss: 0.3389 - f1_m: 0.5322 - val_loss: 0.3395 - val_f1_m: 0.5273\n",
      "Epoch 23/50\n",
      "219/219 [==============================] - 0s 2ms/step - loss: 0.3379 - f1_m: 0.5488 - val_loss: 0.3366 - val_f1_m: 0.5584\n",
      "Epoch 24/50\n",
      "219/219 [==============================] - 0s 2ms/step - loss: 0.3388 - f1_m: 0.5411 - val_loss: 0.3499 - val_f1_m: 0.5988\n",
      "Epoch 25/50\n",
      "219/219 [==============================] - 0s 2ms/step - loss: 0.3386 - f1_m: 0.5451 - val_loss: 0.3390 - val_f1_m: 0.5757\n",
      "Epoch 26/50\n",
      "219/219 [==============================] - 0s 2ms/step - loss: 0.3366 - f1_m: 0.5516 - val_loss: 0.3349 - val_f1_m: 0.5434\n",
      "Epoch 27/50\n",
      "219/219 [==============================] - 0s 2ms/step - loss: 0.3365 - f1_m: 0.5442 - val_loss: 0.3367 - val_f1_m: 0.5723\n",
      "Epoch 28/50\n",
      "219/219 [==============================] - 0s 2ms/step - loss: 0.3375 - f1_m: 0.5428 - val_loss: 0.3376 - val_f1_m: 0.5670\n",
      "Epoch 29/50\n",
      "219/219 [==============================] - 0s 2ms/step - loss: 0.3341 - f1_m: 0.5423 - val_loss: 0.3617 - val_f1_m: 0.6059\n",
      "Epoch 30/50\n",
      "219/219 [==============================] - 0s 2ms/step - loss: 0.3366 - f1_m: 0.5419 - val_loss: 0.3475 - val_f1_m: 0.6089\n",
      "Epoch 31/50\n",
      "219/219 [==============================] - 0s 2ms/step - loss: 0.3338 - f1_m: 0.5469 - val_loss: 0.3344 - val_f1_m: 0.5521\n",
      "Epoch 32/50\n",
      "219/219 [==============================] - 0s 2ms/step - loss: 0.3347 - f1_m: 0.5485 - val_loss: 0.3380 - val_f1_m: 0.5578\n",
      "Epoch 33/50\n",
      "219/219 [==============================] - 0s 2ms/step - loss: 0.3329 - f1_m: 0.5589 - val_loss: 0.3359 - val_f1_m: 0.5618\n",
      "Epoch 34/50\n",
      "219/219 [==============================] - 0s 2ms/step - loss: 0.3336 - f1_m: 0.5557 - val_loss: 0.3397 - val_f1_m: 0.5277\n",
      "Epoch 35/50\n",
      "219/219 [==============================] - 0s 2ms/step - loss: 0.3330 - f1_m: 0.5531 - val_loss: 0.3348 - val_f1_m: 0.5593\n",
      "Epoch 36/50\n",
      "219/219 [==============================] - 0s 2ms/step - loss: 0.3312 - f1_m: 0.5471 - val_loss: 0.3345 - val_f1_m: 0.5680\n",
      "Epoch 37/50\n",
      "219/219 [==============================] - 0s 2ms/step - loss: 0.3315 - f1_m: 0.5550 - val_loss: 0.3359 - val_f1_m: 0.5854\n",
      "Epoch 38/50\n",
      "219/219 [==============================] - 0s 2ms/step - loss: 0.3334 - f1_m: 0.5426 - val_loss: 0.3371 - val_f1_m: 0.5625\n",
      "Epoch 39/50\n",
      "219/219 [==============================] - 0s 2ms/step - loss: 0.3318 - f1_m: 0.5581 - val_loss: 0.3431 - val_f1_m: 0.5919\n",
      "Epoch 40/50\n",
      "219/219 [==============================] - 0s 2ms/step - loss: 0.3301 - f1_m: 0.5501 - val_loss: 0.3411 - val_f1_m: 0.6060\n",
      "Epoch 41/50\n",
      "219/219 [==============================] - 0s 1ms/step - loss: 0.3298 - f1_m: 0.5674 - val_loss: 0.3370 - val_f1_m: 0.5787\n",
      "Epoch 42/50\n",
      "219/219 [==============================] - 0s 1ms/step - loss: 0.3308 - f1_m: 0.5786 - val_loss: 0.3353 - val_f1_m: 0.5833\n",
      "Epoch 43/50\n",
      "219/219 [==============================] - 0s 1ms/step - loss: 0.3286 - f1_m: 0.5676 - val_loss: 0.3395 - val_f1_m: 0.5333\n",
      "Epoch 44/50\n",
      "219/219 [==============================] - 0s 2ms/step - loss: 0.3295 - f1_m: 0.5599 - val_loss: 0.3360 - val_f1_m: 0.5532\n",
      "Epoch 45/50\n",
      "219/219 [==============================] - 0s 2ms/step - loss: 0.3281 - f1_m: 0.5547 - val_loss: 0.3441 - val_f1_m: 0.5296\n",
      "Epoch 46/50\n",
      "219/219 [==============================] - 0s 2ms/step - loss: 0.3307 - f1_m: 0.5690 - val_loss: 0.3353 - val_f1_m: 0.5618\n",
      "Epoch 47/50\n",
      "219/219 [==============================] - 0s 2ms/step - loss: 0.3275 - f1_m: 0.5568 - val_loss: 0.3372 - val_f1_m: 0.5514\n",
      "Epoch 48/50\n",
      "219/219 [==============================] - 0s 1ms/step - loss: 0.3267 - f1_m: 0.5688 - val_loss: 0.3361 - val_f1_m: 0.5486\n",
      "Epoch 49/50\n",
      "219/219 [==============================] - 0s 1ms/step - loss: 0.3265 - f1_m: 0.5691 - val_loss: 0.3365 - val_f1_m: 0.5678\n",
      "Epoch 50/50\n",
      "219/219 [==============================] - 0s 1ms/step - loss: 0.3283 - f1_m: 0.5692 - val_loss: 0.3403 - val_f1_m: 0.5279\n"
     ]
    }
   ],
   "source": [
    "model1.compile(loss='binary_crossentropy', optimizer='adam', metrics=[f1_m])\n",
    "history = model1.fit(X_train,y_train,validation_data = (X_test,y_test),epochs = 50)"
   ]
  },
  {
   "cell_type": "code",
   "execution_count": 23,
   "metadata": {
    "colab": {
     "base_uri": "https://localhost:8080/",
     "height": 265
    },
    "id": "mOz0F8c8vMdm",
    "outputId": "a63318ea-8e09-4a88-fbbd-39662c6b54ce"
   },
   "outputs": [
    {
     "data": {
      "image/png": "[encoded data removed]",
      "text/plain": [
       "<Figure size 432x288 with 1 Axes>"
      ]
     },
     "metadata": {
      "needs_background": "light"
     },
     "output_type": "display_data"
    }
   ],
   "source": [
    "plt.plot(history.history['loss'])\n",
    "plt.plot(history.history['f1_m'])\n",
    "plt.plot(history.history['val_loss'])\n",
    "plt.plot(history.history['val_f1_m'])\n",
    "plt.legend(['loss','f1_m',\"val_loss\",'val_f1_m'])\n",
    "plt.show()"
   ]
  },
  {
   "cell_type": "markdown",
   "metadata": {
    "id": "Td-W7sZi9zaZ"
   },
   "source": [
    "Lets save the model."
   ]
  },
  {
   "cell_type": "code",
   "execution_count": 24,
   "metadata": {
    "id": "r_ZXXz5i8XwY"
   },
   "outputs": [],
   "source": [
    "model1.save('model1.h5')"
   ]
  },
  {
   "cell_type": "markdown",
   "metadata": {
    "id": "CndgTLHc-GwK"
   },
   "source": [
    "Train 2 more different models."
   ]
  },
  {
   "cell_type": "code",
   "execution_count": 25,
   "metadata": {
    "colab": {
     "base_uri": "https://localhost:8080/"
    },
    "id": "E8UW-RkM-Da8",
    "outputId": "e45c31e0-43ea-4b36-e894-4f689b349ccc"
   },
   "outputs": [
    {
     "name": "stdout",
     "output_type": "stream",
     "text": [
      "Epoch 1/50\n",
      "219/219 [==============================] - 1s 2ms/step - loss: 0.4857 - f1_m: 0.0000e+00 - val_loss: 0.4629 - val_f1_m: 0.0000e+00\n",
      "Epoch 2/50\n",
      "219/219 [==============================] - 0s 2ms/step - loss: 0.4520 - f1_m: 0.0070 - val_loss: 0.4390 - val_f1_m: 0.0199\n",
      "Epoch 3/50\n",
      "219/219 [==============================] - 0s 2ms/step - loss: 0.4324 - f1_m: 0.1337 - val_loss: 0.4219 - val_f1_m: 0.1767\n",
      "Epoch 4/50\n",
      "219/219 [==============================] - 0s 2ms/step - loss: 0.4164 - f1_m: 0.2657 - val_loss: 0.4065 - val_f1_m: 0.4314\n",
      "Epoch 5/50\n",
      "219/219 [==============================] - 0s 2ms/step - loss: 0.4005 - f1_m: 0.3683 - val_loss: 0.3881 - val_f1_m: 0.4395\n",
      "Epoch 6/50\n",
      "219/219 [==============================] - 0s 2ms/step - loss: 0.3830 - f1_m: 0.4404 - val_loss: 0.3697 - val_f1_m: 0.4758\n",
      "Epoch 7/50\n",
      "219/219 [==============================] - 0s 2ms/step - loss: 0.3720 - f1_m: 0.4680 - val_loss: 0.3611 - val_f1_m: 0.5044\n",
      "Epoch 8/50\n",
      "219/219 [==============================] - 0s 2ms/step - loss: 0.3632 - f1_m: 0.5126 - val_loss: 0.3550 - val_f1_m: 0.5161\n",
      "Epoch 9/50\n",
      "219/219 [==============================] - 0s 2ms/step - loss: 0.3600 - f1_m: 0.5105 - val_loss: 0.3519 - val_f1_m: 0.5295\n",
      "Epoch 10/50\n",
      "219/219 [==============================] - 0s 2ms/step - loss: 0.3582 - f1_m: 0.5151 - val_loss: 0.3490 - val_f1_m: 0.5162\n",
      "Epoch 11/50\n",
      "219/219 [==============================] - 0s 2ms/step - loss: 0.3550 - f1_m: 0.5068 - val_loss: 0.3518 - val_f1_m: 0.5630\n",
      "Epoch 12/50\n",
      "219/219 [==============================] - 0s 2ms/step - loss: 0.3518 - f1_m: 0.5163 - val_loss: 0.3467 - val_f1_m: 0.5639\n",
      "Epoch 13/50\n",
      "219/219 [==============================] - 0s 2ms/step - loss: 0.3507 - f1_m: 0.5218 - val_loss: 0.3445 - val_f1_m: 0.5496\n",
      "Epoch 14/50\n",
      "219/219 [==============================] - 0s 2ms/step - loss: 0.3516 - f1_m: 0.5312 - val_loss: 0.3456 - val_f1_m: 0.5714\n",
      "Epoch 15/50\n",
      "219/219 [==============================] - 0s 2ms/step - loss: 0.3486 - f1_m: 0.5245 - val_loss: 0.3463 - val_f1_m: 0.5247\n",
      "Epoch 16/50\n",
      "219/219 [==============================] - 0s 2ms/step - loss: 0.3493 - f1_m: 0.5211 - val_loss: 0.3449 - val_f1_m: 0.5590\n",
      "Epoch 17/50\n",
      "219/219 [==============================] - 0s 2ms/step - loss: 0.3476 - f1_m: 0.5363 - val_loss: 0.3426 - val_f1_m: 0.5562\n",
      "Epoch 18/50\n",
      "219/219 [==============================] - 0s 2ms/step - loss: 0.3480 - f1_m: 0.5262 - val_loss: 0.3397 - val_f1_m: 0.5710\n",
      "Epoch 19/50\n",
      "219/219 [==============================] - 0s 2ms/step - loss: 0.3452 - f1_m: 0.5361 - val_loss: 0.3530 - val_f1_m: 0.5805\n",
      "Epoch 20/50\n",
      "219/219 [==============================] - 0s 2ms/step - loss: 0.3450 - f1_m: 0.5394 - val_loss: 0.3439 - val_f1_m: 0.5308\n",
      "Epoch 21/50\n",
      "219/219 [==============================] - 0s 2ms/step - loss: 0.3438 - f1_m: 0.5325 - val_loss: 0.3483 - val_f1_m: 0.5654\n",
      "Epoch 22/50\n",
      "219/219 [==============================] - 0s 2ms/step - loss: 0.3438 - f1_m: 0.5396 - val_loss: 0.3390 - val_f1_m: 0.5590\n",
      "Epoch 23/50\n",
      "219/219 [==============================] - 0s 2ms/step - loss: 0.3417 - f1_m: 0.5289 - val_loss: 0.3401 - val_f1_m: 0.5630\n",
      "Epoch 24/50\n",
      "219/219 [==============================] - 0s 2ms/step - loss: 0.3434 - f1_m: 0.5469 - val_loss: 0.3393 - val_f1_m: 0.5724\n",
      "Epoch 25/50\n",
      "219/219 [==============================] - 0s 2ms/step - loss: 0.3411 - f1_m: 0.5434 - val_loss: 0.3456 - val_f1_m: 0.5723\n",
      "Epoch 26/50\n",
      "219/219 [==============================] - 0s 2ms/step - loss: 0.3410 - f1_m: 0.5382 - val_loss: 0.3415 - val_f1_m: 0.5750\n",
      "Epoch 27/50\n",
      "219/219 [==============================] - 0s 2ms/step - loss: 0.3405 - f1_m: 0.5385 - val_loss: 0.3394 - val_f1_m: 0.5781\n",
      "Epoch 28/50\n",
      "219/219 [==============================] - 0s 2ms/step - loss: 0.3393 - f1_m: 0.5334 - val_loss: 0.3411 - val_f1_m: 0.5643\n",
      "Epoch 29/50\n",
      "219/219 [==============================] - 0s 2ms/step - loss: 0.3380 - f1_m: 0.5473 - val_loss: 0.3409 - val_f1_m: 0.5853\n",
      "Epoch 30/50\n",
      "219/219 [==============================] - 0s 2ms/step - loss: 0.3376 - f1_m: 0.5486 - val_loss: 0.3387 - val_f1_m: 0.5842\n",
      "Epoch 31/50\n",
      "219/219 [==============================] - 0s 2ms/step - loss: 0.3389 - f1_m: 0.5442 - val_loss: 0.3407 - val_f1_m: 0.5868\n",
      "Epoch 32/50\n",
      "219/219 [==============================] - 0s 2ms/step - loss: 0.3358 - f1_m: 0.5509 - val_loss: 0.3390 - val_f1_m: 0.5742\n",
      "Epoch 33/50\n",
      "219/219 [==============================] - 0s 2ms/step - loss: 0.3346 - f1_m: 0.5409 - val_loss: 0.3384 - val_f1_m: 0.5816\n",
      "Epoch 34/50\n",
      "219/219 [==============================] - 0s 2ms/step - loss: 0.3333 - f1_m: 0.5592 - val_loss: 0.3387 - val_f1_m: 0.5772\n",
      "Epoch 35/50\n",
      "219/219 [==============================] - 0s 2ms/step - loss: 0.3344 - f1_m: 0.5464 - val_loss: 0.3413 - val_f1_m: 0.5643\n",
      "Epoch 36/50\n",
      "219/219 [==============================] - 0s 2ms/step - loss: 0.3333 - f1_m: 0.5547 - val_loss: 0.3467 - val_f1_m: 0.5376\n",
      "Epoch 37/50\n",
      "219/219 [==============================] - 0s 2ms/step - loss: 0.3331 - f1_m: 0.5617 - val_loss: 0.3388 - val_f1_m: 0.5917\n",
      "Epoch 38/50\n",
      "219/219 [==============================] - 0s 2ms/step - loss: 0.3311 - f1_m: 0.5523 - val_loss: 0.3349 - val_f1_m: 0.5681\n",
      "Epoch 39/50\n",
      "219/219 [==============================] - 0s 2ms/step - loss: 0.3306 - f1_m: 0.5479 - val_loss: 0.3374 - val_f1_m: 0.5794\n",
      "Epoch 40/50\n",
      "219/219 [==============================] - 0s 2ms/step - loss: 0.3314 - f1_m: 0.5542 - val_loss: 0.3377 - val_f1_m: 0.6083\n",
      "Epoch 41/50\n",
      "219/219 [==============================] - 0s 2ms/step - loss: 0.3293 - f1_m: 0.5583 - val_loss: 0.3378 - val_f1_m: 0.5748\n",
      "Epoch 42/50\n",
      "219/219 [==============================] - 0s 2ms/step - loss: 0.3289 - f1_m: 0.5486 - val_loss: 0.3365 - val_f1_m: 0.5765\n",
      "Epoch 43/50\n",
      "219/219 [==============================] - 0s 2ms/step - loss: 0.3267 - f1_m: 0.5832 - val_loss: 0.3366 - val_f1_m: 0.5931\n",
      "Epoch 44/50\n",
      "219/219 [==============================] - 0s 2ms/step - loss: 0.3287 - f1_m: 0.5538 - val_loss: 0.3376 - val_f1_m: 0.5767\n",
      "Epoch 45/50\n",
      "219/219 [==============================] - 0s 2ms/step - loss: 0.3280 - f1_m: 0.5736 - val_loss: 0.3449 - val_f1_m: 0.5336\n",
      "Epoch 46/50\n",
      "219/219 [==============================] - 0s 2ms/step - loss: 0.3274 - f1_m: 0.5676 - val_loss: 0.3368 - val_f1_m: 0.5736\n",
      "Epoch 47/50\n",
      "219/219 [==============================] - 0s 2ms/step - loss: 0.3251 - f1_m: 0.5607 - val_loss: 0.3388 - val_f1_m: 0.5882\n",
      "Epoch 48/50\n",
      "219/219 [==============================] - 0s 2ms/step - loss: 0.3252 - f1_m: 0.5626 - val_loss: 0.3351 - val_f1_m: 0.5820\n",
      "Epoch 49/50\n",
      "219/219 [==============================] - 0s 2ms/step - loss: 0.3257 - f1_m: 0.5550 - val_loss: 0.3463 - val_f1_m: 0.6014\n",
      "Epoch 50/50\n",
      "219/219 [==============================] - 0s 2ms/step - loss: 0.3244 - f1_m: 0.5731 - val_loss: 0.3369 - val_f1_m: 0.5884\n"
     ]
    }
   ],
   "source": [
    "model2 = Sequential()\n",
    "model2.add(Dense(50,activation = 'relu',input_dim = 11))\n",
    "model2.add(Dense(25,activation = 'relu'))\n",
    "model2.add(Dense(10,activation = 'relu'))\n",
    "model2.add(Dense(1,activation = 'sigmoid'))\n",
    "\n",
    "model2.compile(loss='binary_crossentropy', optimizer='adam', metrics=[f1_m])\n",
    "history1 = model2.fit(X_train,y_train,validation_data = (X_test,y_test),epochs = 50)"
   ]
  },
  {
   "cell_type": "code",
   "execution_count": 26,
   "metadata": {
    "colab": {
     "base_uri": "https://localhost:8080/",
     "height": 265
    },
    "id": "ZbaXjy9c_OSE",
    "outputId": "3a4c99f5-1eb3-4b5e-bbfc-d698309d9de2"
   },
   "outputs": [
    {
     "data": {
      "image/png": "[encoded data removed]",
      "text/plain": [
       "<Figure size 432x288 with 1 Axes>"
      ]
     },
     "metadata": {
      "needs_background": "light"
     },
     "output_type": "display_data"
    }
   ],
   "source": [
    "plt.plot(history1.history['loss'])\n",
    "plt.plot(history1.history['f1_m'])\n",
    "plt.plot(history1.history['val_loss'])\n",
    "plt.plot(history1.history['val_f1_m'])\n",
    "plt.legend(['loss','f1_m',\"val_loss\",'val_f1_m'])\n",
    "plt.show()"
   ]
  },
  {
   "cell_type": "code",
   "execution_count": 27,
   "metadata": {
    "id": "tEXT1pPx_jEe"
   },
   "outputs": [],
   "source": [
    "model2.save('model2.h5')"
   ]
  },
  {
   "cell_type": "code",
   "execution_count": 28,
   "metadata": {
    "colab": {
     "base_uri": "https://localhost:8080/"
    },
    "id": "3d3UdmP5_u1D",
    "outputId": "9123cc1a-80b6-41f2-e3fb-c4550e9f6a7f"
   },
   "outputs": [
    {
     "name": "stdout",
     "output_type": "stream",
     "text": [
      "Epoch 1/100\n",
      "219/219 [==============================] - 2s 3ms/step - loss: 0.5040 - f1_m: 0.0166 - val_loss: 0.4603 - val_f1_m: 0.0860\n",
      "Epoch 2/100\n",
      "219/219 [==============================] - 0s 2ms/step - loss: 0.4522 - f1_m: 0.1514 - val_loss: 0.4436 - val_f1_m: 0.2782\n",
      "Epoch 3/100\n",
      "219/219 [==============================] - 0s 2ms/step - loss: 0.4360 - f1_m: 0.2525 - val_loss: 0.4268 - val_f1_m: 0.2613\n",
      "Epoch 4/100\n",
      "219/219 [==============================] - 0s 2ms/step - loss: 0.4258 - f1_m: 0.2968 - val_loss: 0.4175 - val_f1_m: 0.2937\n",
      "Epoch 5/100\n",
      "219/219 [==============================] - 0s 2ms/step - loss: 0.4134 - f1_m: 0.3635 - val_loss: 0.4040 - val_f1_m: 0.3546\n",
      "Epoch 6/100\n",
      "219/219 [==============================] - 0s 2ms/step - loss: 0.3980 - f1_m: 0.3881 - val_loss: 0.3963 - val_f1_m: 0.5249\n",
      "Epoch 7/100\n",
      "219/219 [==============================] - 0s 2ms/step - loss: 0.3831 - f1_m: 0.4492 - val_loss: 0.3678 - val_f1_m: 0.5272\n",
      "Epoch 8/100\n",
      "219/219 [==============================] - 0s 2ms/step - loss: 0.3688 - f1_m: 0.4828 - val_loss: 0.3562 - val_f1_m: 0.5600\n",
      "Epoch 9/100\n",
      "219/219 [==============================] - 0s 2ms/step - loss: 0.3616 - f1_m: 0.5078 - val_loss: 0.3630 - val_f1_m: 0.4474\n",
      "Epoch 10/100\n",
      "219/219 [==============================] - 0s 2ms/step - loss: 0.3586 - f1_m: 0.4997 - val_loss: 0.3514 - val_f1_m: 0.5088\n",
      "Epoch 11/100\n",
      "219/219 [==============================] - 0s 2ms/step - loss: 0.3602 - f1_m: 0.5105 - val_loss: 0.3486 - val_f1_m: 0.5564\n",
      "Epoch 12/100\n",
      "219/219 [==============================] - 0s 2ms/step - loss: 0.3529 - f1_m: 0.5335 - val_loss: 0.3452 - val_f1_m: 0.5466\n",
      "Epoch 13/100\n",
      "219/219 [==============================] - 0s 2ms/step - loss: 0.3503 - f1_m: 0.5167 - val_loss: 0.3486 - val_f1_m: 0.5364\n",
      "Epoch 14/100\n",
      "219/219 [==============================] - 0s 2ms/step - loss: 0.3502 - f1_m: 0.5189 - val_loss: 0.3438 - val_f1_m: 0.5450\n",
      "Epoch 15/100\n",
      "219/219 [==============================] - 0s 2ms/step - loss: 0.3488 - f1_m: 0.5288 - val_loss: 0.3412 - val_f1_m: 0.5391\n",
      "Epoch 16/100\n",
      "219/219 [==============================] - 0s 2ms/step - loss: 0.3469 - f1_m: 0.5088 - val_loss: 0.3447 - val_f1_m: 0.5671\n",
      "Epoch 17/100\n",
      "219/219 [==============================] - 0s 2ms/step - loss: 0.3461 - f1_m: 0.5244 - val_loss: 0.3462 - val_f1_m: 0.4990\n",
      "Epoch 18/100\n",
      "219/219 [==============================] - 0s 2ms/step - loss: 0.3443 - f1_m: 0.5264 - val_loss: 0.3428 - val_f1_m: 0.5474\n",
      "Epoch 19/100\n",
      "219/219 [==============================] - 0s 2ms/step - loss: 0.3436 - f1_m: 0.5291 - val_loss: 0.3407 - val_f1_m: 0.5644\n",
      "Epoch 20/100\n",
      "219/219 [==============================] - 0s 2ms/step - loss: 0.3441 - f1_m: 0.5187 - val_loss: 0.3402 - val_f1_m: 0.5750\n",
      "Epoch 21/100\n",
      "219/219 [==============================] - 0s 2ms/step - loss: 0.3408 - f1_m: 0.5324 - val_loss: 0.3418 - val_f1_m: 0.5312\n",
      "Epoch 22/100\n",
      "219/219 [==============================] - 0s 2ms/step - loss: 0.3419 - f1_m: 0.5345 - val_loss: 0.3394 - val_f1_m: 0.5570\n",
      "Epoch 23/100\n",
      "219/219 [==============================] - 0s 2ms/step - loss: 0.3402 - f1_m: 0.5371 - val_loss: 0.3420 - val_f1_m: 0.5381\n",
      "Epoch 24/100\n",
      "219/219 [==============================] - 0s 2ms/step - loss: 0.3395 - f1_m: 0.5387 - val_loss: 0.3381 - val_f1_m: 0.5778\n",
      "Epoch 25/100\n",
      "219/219 [==============================] - 0s 2ms/step - loss: 0.3380 - f1_m: 0.5390 - val_loss: 0.3447 - val_f1_m: 0.5914\n",
      "Epoch 26/100\n",
      "219/219 [==============================] - 0s 2ms/step - loss: 0.3354 - f1_m: 0.5420 - val_loss: 0.3399 - val_f1_m: 0.5770\n",
      "Epoch 27/100\n",
      "219/219 [==============================] - 0s 2ms/step - loss: 0.3359 - f1_m: 0.5427 - val_loss: 0.3384 - val_f1_m: 0.5527\n",
      "Epoch 28/100\n",
      "219/219 [==============================] - 0s 2ms/step - loss: 0.3383 - f1_m: 0.5241 - val_loss: 0.3389 - val_f1_m: 0.5562\n",
      "Epoch 29/100\n",
      "219/219 [==============================] - 0s 2ms/step - loss: 0.3341 - f1_m: 0.5428 - val_loss: 0.3445 - val_f1_m: 0.5748\n",
      "Epoch 30/100\n",
      "219/219 [==============================] - 0s 2ms/step - loss: 0.3307 - f1_m: 0.5459 - val_loss: 0.3410 - val_f1_m: 0.5739\n",
      "Epoch 31/100\n",
      "219/219 [==============================] - 0s 2ms/step - loss: 0.3311 - f1_m: 0.5464 - val_loss: 0.3514 - val_f1_m: 0.6111\n",
      "Epoch 32/100\n",
      "219/219 [==============================] - 0s 2ms/step - loss: 0.3325 - f1_m: 0.5373 - val_loss: 0.3390 - val_f1_m: 0.5663\n",
      "Epoch 33/100\n",
      "219/219 [==============================] - 0s 2ms/step - loss: 0.3300 - f1_m: 0.5483 - val_loss: 0.3349 - val_f1_m: 0.5769\n",
      "Epoch 34/100\n",
      "219/219 [==============================] - 0s 2ms/step - loss: 0.3303 - f1_m: 0.5553 - val_loss: 0.3369 - val_f1_m: 0.5747\n",
      "Epoch 35/100\n",
      "219/219 [==============================] - 0s 2ms/step - loss: 0.3272 - f1_m: 0.5557 - val_loss: 0.3379 - val_f1_m: 0.5793\n",
      "Epoch 36/100\n",
      "219/219 [==============================] - 0s 2ms/step - loss: 0.3287 - f1_m: 0.5652 - val_loss: 0.3421 - val_f1_m: 0.5391\n",
      "Epoch 37/100\n",
      "219/219 [==============================] - 0s 2ms/step - loss: 0.3279 - f1_m: 0.5722 - val_loss: 0.3369 - val_f1_m: 0.5489\n",
      "Epoch 38/100\n",
      "219/219 [==============================] - 0s 2ms/step - loss: 0.3300 - f1_m: 0.5593 - val_loss: 0.3411 - val_f1_m: 0.5665\n",
      "Epoch 39/100\n",
      "219/219 [==============================] - 0s 2ms/step - loss: 0.3255 - f1_m: 0.5595 - val_loss: 0.3390 - val_f1_m: 0.5839\n",
      "Epoch 40/100\n",
      "219/219 [==============================] - 0s 2ms/step - loss: 0.3253 - f1_m: 0.5621 - val_loss: 0.3453 - val_f1_m: 0.5324\n",
      "Epoch 41/100\n",
      "219/219 [==============================] - 0s 2ms/step - loss: 0.3245 - f1_m: 0.5647 - val_loss: 0.3357 - val_f1_m: 0.5822\n",
      "Epoch 42/100\n",
      "219/219 [==============================] - 0s 2ms/step - loss: 0.3252 - f1_m: 0.5670 - val_loss: 0.3470 - val_f1_m: 0.5249\n",
      "Epoch 43/100\n",
      "219/219 [==============================] - 0s 2ms/step - loss: 0.3242 - f1_m: 0.5623 - val_loss: 0.3378 - val_f1_m: 0.5818\n",
      "Epoch 44/100\n",
      "219/219 [==============================] - 0s 2ms/step - loss: 0.3215 - f1_m: 0.5768 - val_loss: 0.3361 - val_f1_m: 0.5767\n",
      "Epoch 45/100\n",
      "219/219 [==============================] - 0s 2ms/step - loss: 0.3209 - f1_m: 0.5719 - val_loss: 0.3407 - val_f1_m: 0.5877\n",
      "Epoch 46/100\n",
      "219/219 [==============================] - 0s 2ms/step - loss: 0.3200 - f1_m: 0.5757 - val_loss: 0.3418 - val_f1_m: 0.5804\n",
      "Epoch 47/100\n",
      "219/219 [==============================] - 0s 2ms/step - loss: 0.3204 - f1_m: 0.5652 - val_loss: 0.3389 - val_f1_m: 0.5885\n",
      "Epoch 48/100\n",
      "219/219 [==============================] - 0s 2ms/step - loss: 0.3198 - f1_m: 0.5714 - val_loss: 0.3376 - val_f1_m: 0.5760\n",
      "Epoch 49/100\n",
      "219/219 [==============================] - 0s 2ms/step - loss: 0.3203 - f1_m: 0.5718 - val_loss: 0.3390 - val_f1_m: 0.5608\n",
      "Epoch 50/100\n",
      "219/219 [==============================] - 0s 2ms/step - loss: 0.3168 - f1_m: 0.5828 - val_loss: 0.3513 - val_f1_m: 0.5172\n",
      "Epoch 51/100\n",
      "219/219 [==============================] - 0s 2ms/step - loss: 0.3179 - f1_m: 0.5771 - val_loss: 0.3386 - val_f1_m: 0.5842\n",
      "Epoch 52/100\n",
      "219/219 [==============================] - 0s 2ms/step - loss: 0.3173 - f1_m: 0.5796 - val_loss: 0.3426 - val_f1_m: 0.5930\n",
      "Epoch 53/100\n",
      "219/219 [==============================] - 0s 2ms/step - loss: 0.3164 - f1_m: 0.5744 - val_loss: 0.3371 - val_f1_m: 0.5941\n",
      "Epoch 54/100\n",
      "219/219 [==============================] - 0s 2ms/step - loss: 0.3165 - f1_m: 0.5717 - val_loss: 0.3428 - val_f1_m: 0.5898\n",
      "Epoch 55/100\n",
      "219/219 [==============================] - 0s 2ms/step - loss: 0.3169 - f1_m: 0.5702 - val_loss: 0.3438 - val_f1_m: 0.5242\n",
      "Epoch 56/100\n",
      "219/219 [==============================] - 0s 2ms/step - loss: 0.3139 - f1_m: 0.5895 - val_loss: 0.3424 - val_f1_m: 0.5991\n",
      "Epoch 57/100\n",
      "219/219 [==============================] - 0s 2ms/step - loss: 0.3133 - f1_m: 0.5913 - val_loss: 0.3465 - val_f1_m: 0.5939\n",
      "Epoch 58/100\n",
      "219/219 [==============================] - 0s 2ms/step - loss: 0.3127 - f1_m: 0.5924 - val_loss: 0.3415 - val_f1_m: 0.5653\n",
      "Epoch 59/100\n",
      "219/219 [==============================] - 0s 2ms/step - loss: 0.3113 - f1_m: 0.5835 - val_loss: 0.3467 - val_f1_m: 0.5922\n",
      "Epoch 60/100\n",
      "219/219 [==============================] - 0s 2ms/step - loss: 0.3105 - f1_m: 0.6044 - val_loss: 0.3406 - val_f1_m: 0.5792\n",
      "Epoch 61/100\n"
     ]
    },
    {
     "name": "stdout",
     "output_type": "stream",
     "text": [
      "219/219 [==============================] - 0s 2ms/step - loss: 0.3104 - f1_m: 0.5917 - val_loss: 0.3481 - val_f1_m: 0.5749\n",
      "Epoch 62/100\n",
      "219/219 [==============================] - 0s 2ms/step - loss: 0.3103 - f1_m: 0.5786 - val_loss: 0.3510 - val_f1_m: 0.5394\n",
      "Epoch 63/100\n",
      "219/219 [==============================] - 0s 2ms/step - loss: 0.3094 - f1_m: 0.6043 - val_loss: 0.3474 - val_f1_m: 0.6034\n",
      "Epoch 64/100\n",
      "219/219 [==============================] - 0s 2ms/step - loss: 0.3112 - f1_m: 0.5907 - val_loss: 0.3434 - val_f1_m: 0.5979\n",
      "Epoch 65/100\n",
      "219/219 [==============================] - 0s 2ms/step - loss: 0.3082 - f1_m: 0.5931 - val_loss: 0.3428 - val_f1_m: 0.5631\n",
      "Epoch 66/100\n",
      "219/219 [==============================] - 0s 2ms/step - loss: 0.3087 - f1_m: 0.6099 - val_loss: 0.3463 - val_f1_m: 0.6005\n",
      "Epoch 67/100\n",
      "219/219 [==============================] - 0s 2ms/step - loss: 0.3071 - f1_m: 0.6012 - val_loss: 0.3474 - val_f1_m: 0.5589\n",
      "Epoch 68/100\n",
      "219/219 [==============================] - 0s 2ms/step - loss: 0.3060 - f1_m: 0.6004 - val_loss: 0.3537 - val_f1_m: 0.5921\n",
      "Epoch 69/100\n",
      "219/219 [==============================] - 0s 2ms/step - loss: 0.3056 - f1_m: 0.5996 - val_loss: 0.3471 - val_f1_m: 0.5856\n",
      "Epoch 70/100\n",
      "219/219 [==============================] - 0s 2ms/step - loss: 0.3032 - f1_m: 0.5958 - val_loss: 0.3572 - val_f1_m: 0.5915\n",
      "Epoch 71/100\n",
      "219/219 [==============================] - 0s 2ms/step - loss: 0.3034 - f1_m: 0.6107 - val_loss: 0.3562 - val_f1_m: 0.5945\n",
      "Epoch 72/100\n",
      "219/219 [==============================] - 0s 2ms/step - loss: 0.3037 - f1_m: 0.6059 - val_loss: 0.3561 - val_f1_m: 0.5884\n",
      "Epoch 73/100\n",
      "219/219 [==============================] - 0s 2ms/step - loss: 0.3023 - f1_m: 0.6022 - val_loss: 0.3598 - val_f1_m: 0.5888\n",
      "Epoch 74/100\n",
      "219/219 [==============================] - 0s 2ms/step - loss: 0.3015 - f1_m: 0.6134 - val_loss: 0.3468 - val_f1_m: 0.5483\n",
      "Epoch 75/100\n",
      "219/219 [==============================] - 0s 2ms/step - loss: 0.3043 - f1_m: 0.6010 - val_loss: 0.3539 - val_f1_m: 0.5835\n",
      "Epoch 76/100\n",
      "219/219 [==============================] - 0s 2ms/step - loss: 0.3027 - f1_m: 0.6054 - val_loss: 0.3523 - val_f1_m: 0.5551\n",
      "Epoch 77/100\n",
      "219/219 [==============================] - 0s 2ms/step - loss: 0.2987 - f1_m: 0.6283 - val_loss: 0.3539 - val_f1_m: 0.5529\n",
      "Epoch 78/100\n",
      "219/219 [==============================] - 0s 2ms/step - loss: 0.3026 - f1_m: 0.6077 - val_loss: 0.3517 - val_f1_m: 0.5762\n",
      "Epoch 79/100\n",
      "219/219 [==============================] - 0s 2ms/step - loss: 0.2963 - f1_m: 0.6144 - val_loss: 0.3568 - val_f1_m: 0.5178\n",
      "Epoch 80/100\n",
      "219/219 [==============================] - 0s 2ms/step - loss: 0.3011 - f1_m: 0.6105 - val_loss: 0.3510 - val_f1_m: 0.5407\n",
      "Epoch 81/100\n",
      "219/219 [==============================] - 0s 2ms/step - loss: 0.2992 - f1_m: 0.6083 - val_loss: 0.3539 - val_f1_m: 0.5792\n",
      "Epoch 82/100\n",
      "219/219 [==============================] - 0s 2ms/step - loss: 0.2958 - f1_m: 0.6236 - val_loss: 0.3651 - val_f1_m: 0.5874\n",
      "Epoch 83/100\n",
      "219/219 [==============================] - 0s 2ms/step - loss: 0.2965 - f1_m: 0.6187 - val_loss: 0.3615 - val_f1_m: 0.5964\n",
      "Epoch 84/100\n",
      "219/219 [==============================] - 0s 2ms/step - loss: 0.2971 - f1_m: 0.6279 - val_loss: 0.3725 - val_f1_m: 0.5994\n",
      "Epoch 85/100\n",
      "219/219 [==============================] - 0s 2ms/step - loss: 0.2947 - f1_m: 0.6215 - val_loss: 0.3531 - val_f1_m: 0.5800\n",
      "Epoch 86/100\n",
      "219/219 [==============================] - 0s 2ms/step - loss: 0.2971 - f1_m: 0.6165 - val_loss: 0.3586 - val_f1_m: 0.5487\n",
      "Epoch 87/100\n",
      "219/219 [==============================] - 0s 2ms/step - loss: 0.2936 - f1_m: 0.6293 - val_loss: 0.3581 - val_f1_m: 0.5725\n",
      "Epoch 88/100\n",
      "219/219 [==============================] - 0s 2ms/step - loss: 0.2934 - f1_m: 0.6210 - val_loss: 0.3599 - val_f1_m: 0.5776\n",
      "Epoch 89/100\n",
      "219/219 [==============================] - 0s 2ms/step - loss: 0.2917 - f1_m: 0.6265 - val_loss: 0.3607 - val_f1_m: 0.5579\n",
      "Epoch 90/100\n",
      "219/219 [==============================] - 0s 2ms/step - loss: 0.2926 - f1_m: 0.6286 - val_loss: 0.3618 - val_f1_m: 0.5683\n",
      "Epoch 91/100\n",
      "219/219 [==============================] - 0s 2ms/step - loss: 0.2901 - f1_m: 0.6170 - val_loss: 0.3630 - val_f1_m: 0.5735\n",
      "Epoch 92/100\n",
      "219/219 [==============================] - 0s 2ms/step - loss: 0.2922 - f1_m: 0.6292 - val_loss: 0.3617 - val_f1_m: 0.5713\n",
      "Epoch 93/100\n",
      "219/219 [==============================] - 0s 2ms/step - loss: 0.2881 - f1_m: 0.6225 - val_loss: 0.3673 - val_f1_m: 0.5207\n",
      "Epoch 94/100\n",
      "219/219 [==============================] - 0s 2ms/step - loss: 0.2895 - f1_m: 0.6441 - val_loss: 0.3733 - val_f1_m: 0.5937\n",
      "Epoch 95/100\n",
      "219/219 [==============================] - 0s 2ms/step - loss: 0.2883 - f1_m: 0.6363 - val_loss: 0.3750 - val_f1_m: 0.6011\n",
      "Epoch 96/100\n",
      "219/219 [==============================] - 0s 2ms/step - loss: 0.2873 - f1_m: 0.6385 - val_loss: 0.3665 - val_f1_m: 0.5707\n",
      "Epoch 97/100\n",
      "219/219 [==============================] - 0s 2ms/step - loss: 0.2854 - f1_m: 0.6395 - val_loss: 0.3740 - val_f1_m: 0.5962\n",
      "Epoch 98/100\n",
      "219/219 [==============================] - 0s 2ms/step - loss: 0.2886 - f1_m: 0.6213 - val_loss: 0.3667 - val_f1_m: 0.5595\n",
      "Epoch 99/100\n",
      "219/219 [==============================] - 0s 2ms/step - loss: 0.2851 - f1_m: 0.6287 - val_loss: 0.3656 - val_f1_m: 0.5381\n",
      "Epoch 100/100\n",
      "219/219 [==============================] - 0s 2ms/step - loss: 0.2838 - f1_m: 0.6445 - val_loss: 0.3648 - val_f1_m: 0.5446\n"
     ]
    }
   ],
   "source": [
    "model3 = Sequential()\n",
    "model3.add(Dense(50,activation = 'relu',input_dim = 11))\n",
    "model3.add(Dense(25,activation = 'relu'))\n",
    "model3.add(Dense(15,activation = 'relu'))\n",
    "model3.add(Dense(5,activation = 'relu'))\n",
    "model3.add(Dense(1,activation = 'sigmoid'))\n",
    "\n",
    "model3.compile(loss='binary_crossentropy', optimizer='adam', metrics=[f1_m])\n",
    "history3 = model3.fit(X_train,y_train,validation_data = (X_test,y_test),epochs = 100)"
   ]
  },
  {
   "cell_type": "code",
   "execution_count": 29,
   "metadata": {
    "id": "FutY2EkThjuG"
   },
   "outputs": [],
   "source": [
    "model3.save('model3.h5')"
   ]
  },
  {
   "cell_type": "code",
   "execution_count": 30,
   "metadata": {
    "colab": {
     "base_uri": "https://localhost:8080/"
    },
    "id": "fji4UHEZcH-a",
    "outputId": "76d5e96b-2bfe-49f8-8977-0a4b33f8508b"
   },
   "outputs": [
    {
     "name": "stdout",
     "output_type": "stream",
     "text": [
      "Epoch 1/100\n",
      "219/219 [==============================] - 2s 3ms/step - loss: 0.5402 - f1_m: 0.0153 - val_loss: 0.4673 - val_f1_m: 0.0000e+00\n",
      "Epoch 2/100\n",
      "219/219 [==============================] - 0s 2ms/step - loss: 0.4557 - f1_m: 0.0282 - val_loss: 0.4441 - val_f1_m: 0.1541\n",
      "Epoch 3/100\n",
      "219/219 [==============================] - 0s 2ms/step - loss: 0.4386 - f1_m: 0.2743 - val_loss: 0.4257 - val_f1_m: 0.2552\n",
      "Epoch 4/100\n",
      "219/219 [==============================] - 0s 2ms/step - loss: 0.4205 - f1_m: 0.3452 - val_loss: 0.4005 - val_f1_m: 0.4657\n",
      "Epoch 5/100\n",
      "219/219 [==============================] - 0s 2ms/step - loss: 0.4003 - f1_m: 0.4167 - val_loss: 0.3795 - val_f1_m: 0.5067\n",
      "Epoch 6/100\n",
      "219/219 [==============================] - 0s 2ms/step - loss: 0.3807 - f1_m: 0.4622 - val_loss: 0.3552 - val_f1_m: 0.5569\n",
      "Epoch 7/100\n",
      "219/219 [==============================] - 0s 2ms/step - loss: 0.3650 - f1_m: 0.5094 - val_loss: 0.3503 - val_f1_m: 0.5133\n",
      "Epoch 8/100\n",
      "219/219 [==============================] - 0s 2ms/step - loss: 0.3532 - f1_m: 0.5319 - val_loss: 0.3438 - val_f1_m: 0.4952\n",
      "Epoch 9/100\n",
      "219/219 [==============================] - 0s 2ms/step - loss: 0.3496 - f1_m: 0.5352 - val_loss: 0.3414 - val_f1_m: 0.5520\n",
      "Epoch 10/100\n",
      "219/219 [==============================] - 0s 2ms/step - loss: 0.3442 - f1_m: 0.5443 - val_loss: 0.3328 - val_f1_m: 0.5866\n",
      "Epoch 11/100\n",
      "219/219 [==============================] - 0s 2ms/step - loss: 0.3419 - f1_m: 0.5395 - val_loss: 0.3334 - val_f1_m: 0.6103\n",
      "Epoch 12/100\n",
      "219/219 [==============================] - 0s 2ms/step - loss: 0.3396 - f1_m: 0.5551 - val_loss: 0.3296 - val_f1_m: 0.6088\n",
      "Epoch 13/100\n",
      "219/219 [==============================] - 0s 2ms/step - loss: 0.3375 - f1_m: 0.5440 - val_loss: 0.3336 - val_f1_m: 0.5715\n",
      "Epoch 14/100\n",
      "219/219 [==============================] - 0s 2ms/step - loss: 0.3380 - f1_m: 0.5548 - val_loss: 0.3334 - val_f1_m: 0.5832\n",
      "Epoch 15/100\n",
      "219/219 [==============================] - 0s 2ms/step - loss: 0.3361 - f1_m: 0.5517 - val_loss: 0.3371 - val_f1_m: 0.5921\n",
      "Epoch 16/100\n",
      "219/219 [==============================] - 0s 2ms/step - loss: 0.3365 - f1_m: 0.5627 - val_loss: 0.3341 - val_f1_m: 0.5266\n",
      "Epoch 17/100\n",
      "219/219 [==============================] - 0s 2ms/step - loss: 0.3365 - f1_m: 0.5524 - val_loss: 0.3346 - val_f1_m: 0.5678\n",
      "Epoch 18/100\n",
      "219/219 [==============================] - 0s 2ms/step - loss: 0.3342 - f1_m: 0.5437 - val_loss: 0.3319 - val_f1_m: 0.6057\n",
      "Epoch 19/100\n",
      "219/219 [==============================] - 0s 2ms/step - loss: 0.3326 - f1_m: 0.5522 - val_loss: 0.3341 - val_f1_m: 0.5754\n",
      "Epoch 20/100\n",
      "219/219 [==============================] - 0s 2ms/step - loss: 0.3334 - f1_m: 0.5625 - val_loss: 0.3356 - val_f1_m: 0.5593\n",
      "Epoch 21/100\n",
      "219/219 [==============================] - 0s 2ms/step - loss: 0.3315 - f1_m: 0.5678 - val_loss: 0.3455 - val_f1_m: 0.4980\n",
      "Epoch 22/100\n",
      "219/219 [==============================] - 0s 2ms/step - loss: 0.3308 - f1_m: 0.5616 - val_loss: 0.3332 - val_f1_m: 0.5558\n",
      "Epoch 23/100\n",
      "219/219 [==============================] - 0s 2ms/step - loss: 0.3329 - f1_m: 0.5534 - val_loss: 0.3317 - val_f1_m: 0.5814\n",
      "Epoch 24/100\n",
      "219/219 [==============================] - 1s 3ms/step - loss: 0.3304 - f1_m: 0.5605 - val_loss: 0.3363 - val_f1_m: 0.6143\n",
      "Epoch 25/100\n",
      "219/219 [==============================] - 0s 2ms/step - loss: 0.3283 - f1_m: 0.5862 - val_loss: 0.3309 - val_f1_m: 0.5961\n",
      "Epoch 26/100\n",
      "219/219 [==============================] - 0s 2ms/step - loss: 0.3305 - f1_m: 0.5683 - val_loss: 0.3316 - val_f1_m: 0.6096\n",
      "Epoch 27/100\n",
      "219/219 [==============================] - 0s 2ms/step - loss: 0.3278 - f1_m: 0.5789 - val_loss: 0.3344 - val_f1_m: 0.5359\n",
      "Epoch 28/100\n",
      "219/219 [==============================] - 0s 2ms/step - loss: 0.3262 - f1_m: 0.5724 - val_loss: 0.3341 - val_f1_m: 0.5832\n",
      "Epoch 29/100\n",
      "219/219 [==============================] - 0s 2ms/step - loss: 0.3261 - f1_m: 0.5652 - val_loss: 0.3341 - val_f1_m: 0.5656\n",
      "Epoch 30/100\n",
      "219/219 [==============================] - 0s 2ms/step - loss: 0.3263 - f1_m: 0.5601 - val_loss: 0.3320 - val_f1_m: 0.5753\n",
      "Epoch 31/100\n",
      "219/219 [==============================] - 0s 2ms/step - loss: 0.3274 - f1_m: 0.5653 - val_loss: 0.3416 - val_f1_m: 0.6295\n",
      "Epoch 32/100\n",
      "219/219 [==============================] - 0s 2ms/step - loss: 0.3264 - f1_m: 0.5587 - val_loss: 0.3351 - val_f1_m: 0.5586\n",
      "Epoch 33/100\n",
      "219/219 [==============================] - 0s 2ms/step - loss: 0.3249 - f1_m: 0.5750 - val_loss: 0.3377 - val_f1_m: 0.6232\n",
      "Epoch 34/100\n",
      "219/219 [==============================] - 0s 2ms/step - loss: 0.3239 - f1_m: 0.5804 - val_loss: 0.3356 - val_f1_m: 0.6100\n",
      "Epoch 35/100\n",
      "219/219 [==============================] - 0s 2ms/step - loss: 0.3238 - f1_m: 0.5645 - val_loss: 0.3334 - val_f1_m: 0.6001\n",
      "Epoch 36/100\n",
      "219/219 [==============================] - 0s 2ms/step - loss: 0.3223 - f1_m: 0.5823 - val_loss: 0.3339 - val_f1_m: 0.5878\n",
      "Epoch 37/100\n",
      "219/219 [==============================] - 0s 2ms/step - loss: 0.3239 - f1_m: 0.5597 - val_loss: 0.3349 - val_f1_m: 0.5573\n",
      "Epoch 38/100\n",
      "219/219 [==============================] - 0s 2ms/step - loss: 0.3213 - f1_m: 0.5843 - val_loss: 0.3354 - val_f1_m: 0.5948\n",
      "Epoch 39/100\n",
      "219/219 [==============================] - 0s 2ms/step - loss: 0.3209 - f1_m: 0.5841 - val_loss: 0.3391 - val_f1_m: 0.6185\n",
      "Epoch 40/100\n",
      "219/219 [==============================] - 0s 2ms/step - loss: 0.3205 - f1_m: 0.5875 - val_loss: 0.3343 - val_f1_m: 0.5804\n",
      "Epoch 41/100\n",
      "219/219 [==============================] - 0s 2ms/step - loss: 0.3222 - f1_m: 0.5708 - val_loss: 0.3349 - val_f1_m: 0.5896\n",
      "Epoch 42/100\n",
      "219/219 [==============================] - 0s 2ms/step - loss: 0.3203 - f1_m: 0.5664 - val_loss: 0.3426 - val_f1_m: 0.6109\n",
      "Epoch 43/100\n",
      "219/219 [==============================] - 0s 2ms/step - loss: 0.3196 - f1_m: 0.5776 - val_loss: 0.3424 - val_f1_m: 0.5375\n",
      "Epoch 44/100\n",
      "219/219 [==============================] - 0s 2ms/step - loss: 0.3167 - f1_m: 0.5891 - val_loss: 0.3333 - val_f1_m: 0.5602\n",
      "Epoch 45/100\n",
      "219/219 [==============================] - 0s 2ms/step - loss: 0.3154 - f1_m: 0.5853 - val_loss: 0.3400 - val_f1_m: 0.5967\n",
      "Epoch 46/100\n",
      "219/219 [==============================] - 0s 2ms/step - loss: 0.3157 - f1_m: 0.5867 - val_loss: 0.3389 - val_f1_m: 0.5615\n",
      "Epoch 47/100\n",
      "219/219 [==============================] - 0s 2ms/step - loss: 0.3168 - f1_m: 0.5834 - val_loss: 0.3373 - val_f1_m: 0.5566\n",
      "Epoch 48/100\n",
      "219/219 [==============================] - 0s 2ms/step - loss: 0.3157 - f1_m: 0.5992 - val_loss: 0.3387 - val_f1_m: 0.5851\n",
      "Epoch 49/100\n",
      "219/219 [==============================] - 0s 2ms/step - loss: 0.3128 - f1_m: 0.5796 - val_loss: 0.3379 - val_f1_m: 0.5732\n",
      "Epoch 50/100\n",
      "219/219 [==============================] - 0s 2ms/step - loss: 0.3130 - f1_m: 0.5960 - val_loss: 0.3417 - val_f1_m: 0.5804\n",
      "Epoch 51/100\n",
      "219/219 [==============================] - 0s 2ms/step - loss: 0.3132 - f1_m: 0.5956 - val_loss: 0.3471 - val_f1_m: 0.6096\n",
      "Epoch 52/100\n",
      "219/219 [==============================] - 0s 2ms/step - loss: 0.3133 - f1_m: 0.5982 - val_loss: 0.3360 - val_f1_m: 0.5822\n",
      "Epoch 53/100\n",
      "219/219 [==============================] - 1s 2ms/step - loss: 0.3118 - f1_m: 0.5982 - val_loss: 0.3431 - val_f1_m: 0.5897\n",
      "Epoch 54/100\n",
      "219/219 [==============================] - 1s 3ms/step - loss: 0.3121 - f1_m: 0.6027 - val_loss: 0.3431 - val_f1_m: 0.5745\n",
      "Epoch 55/100\n",
      "219/219 [==============================] - 0s 2ms/step - loss: 0.3116 - f1_m: 0.5814 - val_loss: 0.3541 - val_f1_m: 0.5972\n",
      "Epoch 56/100\n",
      "219/219 [==============================] - 0s 2ms/step - loss: 0.3105 - f1_m: 0.6141 - val_loss: 0.3405 - val_f1_m: 0.5600\n",
      "Epoch 57/100\n",
      "219/219 [==============================] - 0s 2ms/step - loss: 0.3096 - f1_m: 0.5845 - val_loss: 0.3582 - val_f1_m: 0.5805\n",
      "Epoch 58/100\n",
      "219/219 [==============================] - 0s 2ms/step - loss: 0.3103 - f1_m: 0.6039 - val_loss: 0.3444 - val_f1_m: 0.5728\n",
      "Epoch 59/100\n",
      "219/219 [==============================] - 0s 2ms/step - loss: 0.3088 - f1_m: 0.5934 - val_loss: 0.3482 - val_f1_m: 0.6047\n",
      "Epoch 60/100\n",
      "219/219 [==============================] - 0s 2ms/step - loss: 0.3079 - f1_m: 0.5990 - val_loss: 0.3409 - val_f1_m: 0.5786\n",
      "Epoch 61/100\n"
     ]
    },
    {
     "name": "stdout",
     "output_type": "stream",
     "text": [
      "219/219 [==============================] - 0s 2ms/step - loss: 0.3086 - f1_m: 0.5873 - val_loss: 0.3431 - val_f1_m: 0.5814\n",
      "Epoch 62/100\n",
      "219/219 [==============================] - 0s 2ms/step - loss: 0.3048 - f1_m: 0.6134 - val_loss: 0.3443 - val_f1_m: 0.5651\n",
      "Epoch 63/100\n",
      "219/219 [==============================] - 0s 2ms/step - loss: 0.3048 - f1_m: 0.5957 - val_loss: 0.3429 - val_f1_m: 0.5852\n",
      "Epoch 64/100\n",
      "219/219 [==============================] - 0s 2ms/step - loss: 0.3044 - f1_m: 0.6001 - val_loss: 0.3489 - val_f1_m: 0.5802\n",
      "Epoch 65/100\n",
      "219/219 [==============================] - 0s 2ms/step - loss: 0.3037 - f1_m: 0.6140 - val_loss: 0.3472 - val_f1_m: 0.5900\n",
      "Epoch 66/100\n",
      "219/219 [==============================] - 0s 2ms/step - loss: 0.3058 - f1_m: 0.6063 - val_loss: 0.3601 - val_f1_m: 0.6151\n",
      "Epoch 67/100\n",
      "219/219 [==============================] - 0s 2ms/step - loss: 0.3037 - f1_m: 0.6012 - val_loss: 0.3484 - val_f1_m: 0.5580\n",
      "Epoch 68/100\n",
      "219/219 [==============================] - 0s 2ms/step - loss: 0.3003 - f1_m: 0.6027 - val_loss: 0.3491 - val_f1_m: 0.6054\n",
      "Epoch 69/100\n",
      "219/219 [==============================] - 0s 2ms/step - loss: 0.3044 - f1_m: 0.5967 - val_loss: 0.3529 - val_f1_m: 0.5965\n",
      "Epoch 70/100\n",
      "219/219 [==============================] - 0s 2ms/step - loss: 0.2996 - f1_m: 0.6132 - val_loss: 0.3511 - val_f1_m: 0.5754\n",
      "Epoch 71/100\n",
      "219/219 [==============================] - 0s 2ms/step - loss: 0.2992 - f1_m: 0.6161 - val_loss: 0.3491 - val_f1_m: 0.5514\n",
      "Epoch 72/100\n",
      "219/219 [==============================] - 0s 2ms/step - loss: 0.3004 - f1_m: 0.6142 - val_loss: 0.3541 - val_f1_m: 0.5865\n",
      "Epoch 73/100\n",
      "219/219 [==============================] - 0s 2ms/step - loss: 0.2982 - f1_m: 0.6173 - val_loss: 0.3538 - val_f1_m: 0.5678\n",
      "Epoch 74/100\n",
      "219/219 [==============================] - 0s 2ms/step - loss: 0.2983 - f1_m: 0.6131 - val_loss: 0.3576 - val_f1_m: 0.5862\n",
      "Epoch 75/100\n",
      "219/219 [==============================] - 0s 2ms/step - loss: 0.2987 - f1_m: 0.6096 - val_loss: 0.3584 - val_f1_m: 0.5892\n",
      "Epoch 76/100\n",
      "219/219 [==============================] - 0s 2ms/step - loss: 0.2966 - f1_m: 0.6191 - val_loss: 0.3581 - val_f1_m: 0.5950\n",
      "Epoch 77/100\n",
      "219/219 [==============================] - 0s 2ms/step - loss: 0.2944 - f1_m: 0.6197 - val_loss: 0.3600 - val_f1_m: 0.5722\n",
      "Epoch 78/100\n",
      "219/219 [==============================] - 0s 2ms/step - loss: 0.2942 - f1_m: 0.6205 - val_loss: 0.3568 - val_f1_m: 0.5432\n",
      "Epoch 79/100\n",
      "219/219 [==============================] - 0s 2ms/step - loss: 0.2953 - f1_m: 0.6152 - val_loss: 0.3600 - val_f1_m: 0.5647\n",
      "Epoch 80/100\n",
      "219/219 [==============================] - 0s 2ms/step - loss: 0.2934 - f1_m: 0.6157 - val_loss: 0.3550 - val_f1_m: 0.5354\n",
      "Epoch 81/100\n",
      "219/219 [==============================] - 0s 2ms/step - loss: 0.2925 - f1_m: 0.6288 - val_loss: 0.3626 - val_f1_m: 0.5952\n",
      "Epoch 82/100\n",
      "219/219 [==============================] - 0s 2ms/step - loss: 0.2939 - f1_m: 0.6288 - val_loss: 0.3693 - val_f1_m: 0.5935\n",
      "Epoch 83/100\n",
      "219/219 [==============================] - 0s 2ms/step - loss: 0.2938 - f1_m: 0.6239 - val_loss: 0.3687 - val_f1_m: 0.5530\n",
      "Epoch 84/100\n",
      "219/219 [==============================] - 0s 2ms/step - loss: 0.2923 - f1_m: 0.6319 - val_loss: 0.3657 - val_f1_m: 0.5778\n",
      "Epoch 85/100\n",
      "219/219 [==============================] - 0s 2ms/step - loss: 0.2920 - f1_m: 0.6159 - val_loss: 0.3661 - val_f1_m: 0.5893\n",
      "Epoch 86/100\n",
      "219/219 [==============================] - 0s 2ms/step - loss: 0.2936 - f1_m: 0.6160 - val_loss: 0.3665 - val_f1_m: 0.5815\n",
      "Epoch 87/100\n",
      "219/219 [==============================] - 0s 2ms/step - loss: 0.2897 - f1_m: 0.6386 - val_loss: 0.3723 - val_f1_m: 0.5847\n",
      "Epoch 88/100\n",
      "219/219 [==============================] - 0s 2ms/step - loss: 0.2902 - f1_m: 0.6347 - val_loss: 0.3652 - val_f1_m: 0.5818\n",
      "Epoch 89/100\n",
      "219/219 [==============================] - 0s 2ms/step - loss: 0.2888 - f1_m: 0.6337 - val_loss: 0.3695 - val_f1_m: 0.5652\n",
      "Epoch 90/100\n",
      "219/219 [==============================] - 0s 2ms/step - loss: 0.2860 - f1_m: 0.6391 - val_loss: 0.3739 - val_f1_m: 0.5807\n",
      "Epoch 91/100\n",
      "219/219 [==============================] - 0s 1ms/step - loss: 0.2856 - f1_m: 0.6331 - val_loss: 0.3768 - val_f1_m: 0.5548\n",
      "Epoch 92/100\n",
      "219/219 [==============================] - 0s 2ms/step - loss: 0.2857 - f1_m: 0.6483 - val_loss: 0.3753 - val_f1_m: 0.5223\n",
      "Epoch 93/100\n",
      "219/219 [==============================] - 0s 2ms/step - loss: 0.2862 - f1_m: 0.6385 - val_loss: 0.3799 - val_f1_m: 0.5669\n",
      "Epoch 94/100\n",
      "219/219 [==============================] - 0s 2ms/step - loss: 0.2883 - f1_m: 0.6312 - val_loss: 0.3789 - val_f1_m: 0.5882\n",
      "Epoch 95/100\n",
      "219/219 [==============================] - 0s 2ms/step - loss: 0.2842 - f1_m: 0.6249 - val_loss: 0.3752 - val_f1_m: 0.5688\n",
      "Epoch 96/100\n",
      "219/219 [==============================] - 0s 2ms/step - loss: 0.2837 - f1_m: 0.6262 - val_loss: 0.3745 - val_f1_m: 0.5575\n",
      "Epoch 97/100\n",
      "219/219 [==============================] - 0s 2ms/step - loss: 0.2839 - f1_m: 0.6285 - val_loss: 0.3863 - val_f1_m: 0.5406\n",
      "Epoch 98/100\n",
      "219/219 [==============================] - 0s 2ms/step - loss: 0.2828 - f1_m: 0.6336 - val_loss: 0.3907 - val_f1_m: 0.5927\n",
      "Epoch 99/100\n",
      "219/219 [==============================] - 0s 2ms/step - loss: 0.2819 - f1_m: 0.6296 - val_loss: 0.3800 - val_f1_m: 0.5730\n",
      "Epoch 100/100\n",
      "219/219 [==============================] - 0s 2ms/step - loss: 0.2803 - f1_m: 0.6464 - val_loss: 0.3845 - val_f1_m: 0.5754\n"
     ]
    }
   ],
   "source": [
    "model4 = Sequential()\n",
    "model4.add(Dense(50,activation = 'relu',input_dim = 11))\n",
    "model4.add(Dense(25,activation = 'relu'))\n",
    "model4.add(Dense(15,activation = 'relu'))\n",
    "\n",
    "model4.add(Dense(10,activation = 'relu'))\n",
    "model4.add(Dense(5,activation = 'relu'))\n",
    "model4.add(Dense(1,activation = 'sigmoid'))\n",
    "\n",
    "model4.compile(loss='binary_crossentropy', optimizer='adam', metrics=[f1_m])\n",
    "history4 = model4.fit(X_train,y_train,validation_data = (X_test,y_test),epochs = 100)"
   ]
  },
  {
   "cell_type": "code",
   "execution_count": 31,
   "metadata": {
    "colab": {
     "base_uri": "https://localhost:8080/",
     "height": 265
    },
    "id": "3Qq41RoxApGR",
    "outputId": "f4e9c776-e588-4f05-a4bf-0f8d4f010d48"
   },
   "outputs": [
    {
     "data": {
      "image/png": "[encoded data removed]",
      "text/plain": [
       "<Figure size 432x288 with 1 Axes>"
      ]
     },
     "metadata": {
      "needs_background": "light"
     },
     "output_type": "display_data"
    }
   ],
   "source": [
    "plt.plot(history4.history['loss'])\n",
    "plt.plot(history4.history['f1_m'])\n",
    "plt.plot(history4.history['val_loss'])\n",
    "plt.plot(history4.history['val_f1_m'])\n",
    "plt.legend(['loss','f1_m',\"val_loss\",'val_f1_m'])\n",
    "plt.show()"
   ]
  },
  {
   "cell_type": "code",
   "execution_count": 32,
   "metadata": {
    "id": "7kiZDGaVBinM"
   },
   "outputs": [],
   "source": [
    "model4.save('model4.h5')"
   ]
  },
  {
   "cell_type": "code",
   "execution_count": 33,
   "metadata": {
    "id": "aYktA8TaIYdE"
   },
   "outputs": [],
   "source": [
    "dependencies = {\n",
    "    'f1_m': f1_m\n",
    "}\n"
   ]
  },
  {
   "cell_type": "code",
   "execution_count": 34,
   "metadata": {
    "id": "cGighNVOBvJZ"
   },
   "outputs": [],
   "source": [
    "# load models from file\n",
    "def load_all_models(n_models):\n",
    "\tall_models = list()\n",
    "\tfor i in range(n_models):\n",
    "\t\t# define filename for this ensemble\n",
    "\t\tfilename = 'model' + str(i + 1) + '.h5'\n",
    "\t\t# load model from file\n",
    "\t\tmodel = load_model(filename,custom_objects=dependencies)\n",
    "\t\t# add to list of members\n",
    "\t\tall_models.append(model)\n",
    "\t\tprint('>loaded %s' % filename)\n",
    "\treturn all_models"
   ]
  },
  {
   "cell_type": "code",
   "execution_count": 35,
   "metadata": {
    "colab": {
     "base_uri": "https://localhost:8080/"
    },
    "id": "r5KRPy2_EZrn",
    "outputId": "bc7bc008-d480-4edf-f6d8-ba1dfdfecdb8"
   },
   "outputs": [
    {
     "name": "stdout",
     "output_type": "stream",
     "text": [
      ">loaded model1.h5\n",
      ">loaded model2.h5\n",
      ">loaded model3.h5\n",
      ">loaded model4.h5\n",
      "Loaded 4 models\n"
     ]
    }
   ],
   "source": [
    "n_members = 4\n",
    "members = load_all_models(n_members)\n",
    "print('Loaded %d models' % len(members))"
   ]
  },
  {
   "cell_type": "code",
   "execution_count": 36,
   "metadata": {
    "id": "9NAaaGyZEm_l"
   },
   "outputs": [],
   "source": [
    "\n",
    "# create stacked model input dataset as outputs from the ensemble\n",
    "def stacked_dataset(members, inputX):\n",
    "\tstackX = None\n",
    "\tfor model in members:\n",
    "\t\t# make prediction\n",
    "\t\tyhat = model.predict(inputX, verbose=0)\n",
    "\t\t# stack predictions into [rows, members, probabilities]\n",
    "\t\tif stackX is None:\n",
    "\t\t\tstackX = yhat #\n",
    "\t\telse:\n",
    "\t\t\tstackX = dstack((stackX, yhat))\n",
    "\t# flatten predictions to [rows, members x probabilities]\n",
    "\tstackX = stackX.reshape((stackX.shape[0], stackX.shape[1]*stackX.shape[2]))\n",
    "\treturn stackX"
   ]
  },
  {
   "cell_type": "code",
   "execution_count": 37,
   "metadata": {
    "id": "tL_U6snsJZkK"
   },
   "outputs": [],
   "source": [
    "\n",
    "# fit a model based on the outputs from the ensemble members\n",
    "def fit_stacked_model(members, inputX, inputy):\n",
    "\t# create dataset using ensemble\n",
    "\tstackedX = stacked_dataset(members, inputX)\n",
    "\t# fit standalone model\n",
    "\tmodel = LogisticRegression() #meta learner\n",
    "\tmodel.fit(stackedX, inputy)\n",
    "\treturn model"
   ]
  },
  {
   "cell_type": "code",
   "execution_count": 38,
   "metadata": {
    "id": "eMOs3pOIJf_3"
   },
   "outputs": [],
   "source": [
    "model = fit_stacked_model(members, X_test,y_test)"
   ]
  },
  {
   "cell_type": "code",
   "execution_count": 39,
   "metadata": {
    "id": "kD_rWEU7KzAh"
   },
   "outputs": [],
   "source": [
    "\n",
    "# make a prediction with the stacked model\n",
    "def stacked_prediction(members, model, inputX):\n",
    "\t# create dataset using ensemble\n",
    "\tstackedX = stacked_dataset(members, inputX )\n",
    "\t# make a prediction\n",
    "\tyhat = model.predict(stackedX)\n",
    "\treturn yhat"
   ]
  },
  {
   "cell_type": "code",
   "execution_count": 40,
   "metadata": {
    "colab": {
     "base_uri": "https://localhost:8080/"
    },
    "id": "iyoBj6GVNpTc",
    "outputId": "d28b3b92-3c2f-4b0e-ed7c-07bc6ab9cb7b"
   },
   "outputs": [
    {
     "name": "stdout",
     "output_type": "stream",
     "text": [
      "Stacked F Score: tf.Tensor(0.6060018880771932, shape=(), dtype=float64)\n"
     ]
    }
   ],
   "source": [
    "\n",
    "# evaluate model on test set\n",
    "yhat = stacked_prediction(members, model, X_test)\n",
    "score = f1_m(y_test/1.0, yhat/1.0)\n",
    "print('Stacked F Score:', score)"
   ]
  },
  {
   "cell_type": "markdown",
   "metadata": {
    "id": "_yn5230cY2bF"
   },
   "source": [
    "from sklearn.metrics import f1_score"
   ]
  },
  {
   "cell_type": "code",
   "execution_count": null,
   "metadata": {},
   "outputs": [],
   "source": []
  },
  {
   "cell_type": "code",
   "execution_count": 42,
   "metadata": {
    "colab": {
     "base_uri": "https://localhost:8080/"
    },
    "id": "B1AbppphPb4P",
    "outputId": "230553f0-88f0-4520-a25b-d080d2529ea4"
   },
   "outputs": [
    {
     "name": "stdout",
     "output_type": "stream",
     "text": [
      "94/94 [==============================] - 0s 852us/step\n",
      "F-Score of model 1 is  0.5527950310559006\n",
      "94/94 [==============================] - 0s 855us/step\n",
      "F-Score of model 2 is  0.6032350142721218\n",
      "94/94 [==============================] - 0s 852us/step\n",
      "F-Score of model 3 is  0.5643070787637089\n",
      "94/94 [==============================] - 0s 841us/step\n",
      "F-Score of model 4 is  0.6001796945193171\n"
     ]
    }
   ],
   "source": [
    "i = 0\n",
    "for model in members:\n",
    "    i+=1\n",
    "    pred = (model.predict(X_test) > 0.5).astype(\"int32\")\n",
    "    score = f1_score(y_test,pred)\n",
    "    print('F-Score of model {} is '.format(i),score)"
   ]
  },
  {
   "cell_type": "markdown",
   "metadata": {
    "id": "xY8SIzs1jCfD"
   },
   "source": [
    "# Stacked Model give f1 score of 0.6035 which is higher than any other model taken alone."
   ]
  },
  {
   "cell_type": "code",
   "execution_count": null,
   "metadata": {
    "id": "vS-c2wd1SOgN"
   },
   "outputs": [],
   "source": []
  },
  {
   "cell_type": "markdown",
   "metadata": {},
   "source": [
    "notebook credits https://www.analyticsvidhya.com/blog/2021/08/ensemble-stacking-for-machine-learning-and-deep-learning/\n",
    "        "
   ]
  }
 ],
 "metadata": {
  "colab": {
   "authorship_tag": "ABX9TyNgup4kIaXFKd/8Ilgutcyi",
   "collapsed_sections": [],
   "include_colab_link": true,
   "name": "Ensemble Stacking in Neural Networks.ipynb",
   "provenance": []
  },
  "kernelspec": {
   "display_name": "Python 3 (ipykernel)",
   "language": "python",
   "name": "python3"
  },
  "language_info": {
   "codemirror_mode": {
    "name": "ipython",
    "version": 3
   },
   "file_extension": ".py",
   "mimetype": "text/x-python",
   "name": "python",
   "nbconvert_exporter": "python",
   "pygments_lexer": "ipython3",
   "version": "3.9.7"
  }
 },
 "nbformat": 4,
 "nbformat_minor": 1
}
